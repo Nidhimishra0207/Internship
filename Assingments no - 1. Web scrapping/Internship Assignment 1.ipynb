{
 "cells": [
  {
   "cell_type": "markdown",
   "id": "f1be373f",
   "metadata": {},
   "source": [
    "# Web Scrapping"
   ]
  },
  {
   "cell_type": "code",
   "execution_count": 1,
   "id": "15aa330f",
   "metadata": {
    "scrolled": true
   },
   "outputs": [
    {
     "name": "stdout",
     "output_type": "stream",
     "text": [
      "Requirement already satisfied: bs4 in c:\\users\\hp\\anaconda3\\lib\\site-packages (0.0.1)\n",
      "Requirement already satisfied: beautifulsoup4 in c:\\users\\hp\\anaconda3\\lib\\site-packages (from bs4) (4.10.0)\n",
      "Requirement already satisfied: soupsieve>1.2 in c:\\users\\hp\\anaconda3\\lib\\site-packages (from beautifulsoup4->bs4) (2.2.1)\n",
      "Requirement already satisfied: requests in c:\\users\\hp\\anaconda3\\lib\\site-packages (2.26.0)\n",
      "Requirement already satisfied: urllib3<1.27,>=1.21.1 in c:\\users\\hp\\anaconda3\\lib\\site-packages (from requests) (1.26.7)\n",
      "Requirement already satisfied: idna<4,>=2.5 in c:\\users\\hp\\anaconda3\\lib\\site-packages (from requests) (3.2)\n",
      "Requirement already satisfied: charset-normalizer~=2.0.0 in c:\\users\\hp\\anaconda3\\lib\\site-packages (from requests) (2.0.4)\n",
      "Requirement already satisfied: certifi>=2017.4.17 in c:\\users\\hp\\anaconda3\\lib\\site-packages (from requests) (2021.10.8)\n",
      "Requirement already satisfied: pandas in c:\\users\\hp\\anaconda3\\lib\\site-packages (1.3.4)\n",
      "Requirement already satisfied: numpy>=1.17.3 in c:\\users\\hp\\anaconda3\\lib\\site-packages (from pandas) (1.20.3)\n",
      "Requirement already satisfied: python-dateutil>=2.7.3 in c:\\users\\hp\\anaconda3\\lib\\site-packages (from pandas) (2.8.2)\n",
      "Requirement already satisfied: pytz>=2017.3 in c:\\users\\hp\\anaconda3\\lib\\site-packages (from pandas) (2021.3)\n",
      "Requirement already satisfied: six>=1.5 in c:\\users\\hp\\anaconda3\\lib\\site-packages (from python-dateutil>=2.7.3->pandas) (1.16.0)\n",
      "Requirement already satisfied: openpyxl in c:\\users\\hp\\anaconda3\\lib\\site-packages (3.0.9)\n",
      "Requirement already satisfied: et-xmlfile in c:\\users\\hp\\anaconda3\\lib\\site-packages (from openpyxl) (1.1.0)\n",
      "Requirement already satisfied: xlrd in c:\\users\\hp\\anaconda3\\lib\\site-packages (2.0.1)\n"
     ]
    }
   ],
   "source": [
    "!pip install bs4\n",
    "!pip install requests\n",
    "!pip install pandas\n",
    "!pip install openpyxl\n",
    "!pip install xlrd"
   ]
  },
  {
   "cell_type": "code",
   "execution_count": 2,
   "id": "9cdba886",
   "metadata": {},
   "outputs": [],
   "source": [
    "import numpy as np"
   ]
  },
  {
   "cell_type": "markdown",
   "id": "69a8ebb4",
   "metadata": {},
   "source": [
    "Write a python program to display all the header tags from wikipedia.org."
   ]
  },
  {
   "cell_type": "code",
   "execution_count": 3,
   "id": "a22ed8c1",
   "metadata": {},
   "outputs": [],
   "source": [
    "from urllib.request import urlopen"
   ]
  },
  {
   "cell_type": "code",
   "execution_count": 4,
   "id": "8ce60ed2",
   "metadata": {},
   "outputs": [],
   "source": [
    "from bs4 import BeautifulSoup"
   ]
  },
  {
   "cell_type": "code",
   "execution_count": 5,
   "id": "d4345c44",
   "metadata": {},
   "outputs": [],
   "source": [
    "html = urlopen(\"https://en.wikipedia.org/wiki/Main_Page\")"
   ]
  },
  {
   "cell_type": "code",
   "execution_count": 6,
   "id": "e5939570",
   "metadata": {},
   "outputs": [],
   "source": [
    "bs = BeautifulSoup(html, \"html.parser\")"
   ]
  },
  {
   "cell_type": "code",
   "execution_count": 7,
   "id": "c531a550",
   "metadata": {},
   "outputs": [
    {
     "name": "stdout",
     "output_type": "stream",
     "text": [
      "List all the header tags :\n",
      "\n",
      "<h1 class=\"firstHeading mw-first-heading\" id=\"firstHeading\" style=\"display: none\"><span class=\"mw-page-title-main\">Main Page</span></h1>\n",
      "\n",
      "<h1><span class=\"mw-headline\" id=\"Welcome_to_Wikipedia\">Welcome to <a href=\"/wiki/Wikipedia\" title=\"Wikipedia\">Wikipedia</a></span></h1>\n",
      "\n",
      "<h2 class=\"mp-h2\" id=\"mp-tfa-h2\"><span id=\"From_today.27s_featured_article\"></span><span class=\"mw-headline\" id=\"From_today's_featured_article\">From today's featured article</span></h2>\n",
      "\n",
      "<h2 class=\"mp-h2\" id=\"mp-dyk-h2\"><span class=\"mw-headline\" id=\"Did_you_know_...\">Did you know ...</span></h2>\n",
      "\n",
      "<h2 class=\"mp-h2\" id=\"mp-itn-h2\"><span class=\"mw-headline\" id=\"In_the_news\">In the news</span></h2>\n",
      "\n",
      "<h2 class=\"mp-h2\" id=\"mp-otd-h2\"><span class=\"mw-headline\" id=\"On_this_day\">On this day</span></h2>\n",
      "\n",
      "<h2 class=\"mp-h2\" id=\"mp-tfp-h2\"><span id=\"Today.27s_featured_picture\"></span><span class=\"mw-headline\" id=\"Today's_featured_picture\">Today's featured picture</span></h2>\n",
      "\n",
      "<h2 class=\"mp-h2\" id=\"mp-other\"><span class=\"mw-headline\" id=\"Other_areas_of_Wikipedia\">Other areas of Wikipedia</span></h2>\n",
      "\n",
      "<h2 class=\"mp-h2\" id=\"mp-sister\"><span id=\"Wikipedia.27s_sister_projects\"></span><span class=\"mw-headline\" id=\"Wikipedia's_sister_projects\">Wikipedia's sister projects</span></h2>\n",
      "\n",
      "<h2 class=\"mp-h2\" id=\"mp-lang\"><span class=\"mw-headline\" id=\"Wikipedia_languages\">Wikipedia languages</span></h2>\n",
      "\n",
      "<h2>Navigation menu</h2>\n",
      "\n",
      "<h3 class=\"vector-menu-heading\" id=\"p-personal-label\">\n",
      "<span class=\"vector-menu-heading-label\">Personal tools</span>\n",
      "</h3>\n",
      "\n",
      "<h3 class=\"vector-menu-heading\" id=\"p-namespaces-label\">\n",
      "<span class=\"vector-menu-heading-label\">Namespaces</span>\n",
      "</h3>\n",
      "\n",
      "<h3 class=\"vector-menu-heading\" id=\"p-views-label\">\n",
      "<span class=\"vector-menu-heading-label\">Views</span>\n",
      "</h3>\n",
      "\n",
      "<h3>\n",
      "<label for=\"searchInput\">Search</label>\n",
      "</h3>\n",
      "\n",
      "<h3 class=\"vector-menu-heading\" id=\"p-navigation-label\">\n",
      "<span class=\"vector-menu-heading-label\">Navigation</span>\n",
      "</h3>\n",
      "\n",
      "<h3 class=\"vector-menu-heading\" id=\"p-interaction-label\">\n",
      "<span class=\"vector-menu-heading-label\">Contribute</span>\n",
      "</h3>\n",
      "\n",
      "<h3 class=\"vector-menu-heading\" id=\"p-tb-label\">\n",
      "<span class=\"vector-menu-heading-label\">Tools</span>\n",
      "</h3>\n",
      "\n",
      "<h3 class=\"vector-menu-heading\" id=\"p-coll-print_export-label\">\n",
      "<span class=\"vector-menu-heading-label\">Print/export</span>\n",
      "</h3>\n",
      "\n",
      "<h3 class=\"vector-menu-heading\" id=\"p-wikibase-otherprojects-label\">\n",
      "<span class=\"vector-menu-heading-label\">In other projects</span>\n",
      "</h3>\n",
      "\n",
      "<h3 class=\"vector-menu-heading\" id=\"p-lang-label\">\n",
      "<span class=\"vector-menu-heading-label\">Languages</span>\n",
      "</h3>\n"
     ]
    }
   ],
   "source": [
    "titles = bs.find_all(['h1', 'h2','h3','h4','h5','h6'])\n",
    "\n",
    "print('List all the header tags :', *titles, sep='\\n\\n')\n"
   ]
  },
  {
   "cell_type": "code",
   "execution_count": null,
   "id": "7f149652",
   "metadata": {},
   "outputs": [],
   "source": []
  },
  {
   "cell_type": "code",
   "execution_count": null,
   "id": "27f3771b",
   "metadata": {},
   "outputs": [],
   "source": []
  },
  {
   "cell_type": "markdown",
   "id": "c0530921",
   "metadata": {},
   "source": [
    "Write a python program to display IMDB’s Top rated 100 movies’ data (i.e. name, rating, year of release)\n",
    "and make data frame."
   ]
  },
  {
   "cell_type": "code",
   "execution_count": 8,
   "id": "24ed2f23",
   "metadata": {},
   "outputs": [],
   "source": [
    "from bs4 import BeautifulSoup\n",
    "import requests\n",
    "import pandas as pd"
   ]
  },
  {
   "cell_type": "code",
   "execution_count": 9,
   "id": "16be36fb",
   "metadata": {},
   "outputs": [],
   "source": [
    "url = \"https://www.imdb.com/chart/top/\""
   ]
  },
  {
   "cell_type": "code",
   "execution_count": 10,
   "id": "65701c17",
   "metadata": {},
   "outputs": [
    {
     "data": {
      "text/plain": [
       "<Response [200]>"
      ]
     },
     "execution_count": 10,
     "metadata": {},
     "output_type": "execute_result"
    }
   ],
   "source": [
    "response = requests.get(url)\n",
    "response"
   ]
  },
  {
   "cell_type": "code",
   "execution_count": 11,
   "id": "3030f6e6",
   "metadata": {},
   "outputs": [],
   "source": [
    "soup = BeautifulSoup(response.content, \"html.parser\")\n",
    "#print(soup.prettify())"
   ]
  },
  {
   "cell_type": "code",
   "execution_count": 12,
   "id": "4f189a23",
   "metadata": {},
   "outputs": [],
   "source": [
    "scrapped_movies = soup.find_all(\"td\", class_=\"titleColumn\")\n",
    "#movies"
   ]
  },
  {
   "cell_type": "code",
   "execution_count": 13,
   "id": "9e9ce065",
   "metadata": {},
   "outputs": [],
   "source": [
    "movies = []\n",
    "for movie in scrapped_movies:\n",
    "    movie = movie.get_text().replace(\"\\n\",\"\")\n",
    "    movie = movie.strip(\" \")\n",
    "    movie = movie.split(\".\")[1].split(\"(\")[0]\n",
    "    movies.append(movie)\n",
    "#movies"
   ]
  },
  {
   "cell_type": "code",
   "execution_count": 14,
   "id": "88ba18e6",
   "metadata": {},
   "outputs": [],
   "source": [
    "release_year=soup.find_all('span',class_='secondaryInfo')\n",
    "#release_year"
   ]
  },
  {
   "cell_type": "code",
   "execution_count": 15,
   "id": "502db0f0",
   "metadata": {},
   "outputs": [],
   "source": [
    "years =[]\n",
    "for year in release_year:\n",
    "    year = year.get_text().replace(\"\\n\", \"\").replace('(', \"\").replace(')', \"\")\n",
    "    year = year.strip(\" \")\n",
    "    years.append(year)\n",
    "#years"
   ]
  },
  {
   "cell_type": "code",
   "execution_count": 16,
   "id": "eec8fd26",
   "metadata": {},
   "outputs": [],
   "source": [
    "scrap_ratings = soup.find_all('td', class_=\"ratingColumn imdbRating\")\n",
    "#scrap_ratings"
   ]
  },
  {
   "cell_type": "code",
   "execution_count": 17,
   "id": "f7b4858e",
   "metadata": {},
   "outputs": [],
   "source": [
    "ratings = []\n",
    "\n",
    "for rate in scrap_ratings:\n",
    "    rate = rate.get_text().replace(\"\\n\", \"\")\n",
    "    rate = rate.strip(\" \")\n",
    "    ratings.append(rate)\n",
    "#ratings"
   ]
  },
  {
   "cell_type": "code",
   "execution_count": 18,
   "id": "474fa4a8",
   "metadata": {},
   "outputs": [
    {
     "data": {
      "text/html": [
       "<div>\n",
       "<style scoped>\n",
       "    .dataframe tbody tr th:only-of-type {\n",
       "        vertical-align: middle;\n",
       "    }\n",
       "\n",
       "    .dataframe tbody tr th {\n",
       "        vertical-align: top;\n",
       "    }\n",
       "\n",
       "    .dataframe thead th {\n",
       "        text-align: right;\n",
       "    }\n",
       "</style>\n",
       "<table border=\"1\" class=\"dataframe\">\n",
       "  <thead>\n",
       "    <tr style=\"text-align: right;\">\n",
       "      <th></th>\n",
       "      <th>Movie Names</th>\n",
       "      <th>Ratings</th>\n",
       "      <th>Release Year</th>\n",
       "    </tr>\n",
       "  </thead>\n",
       "  <tbody>\n",
       "    <tr>\n",
       "      <th>0</th>\n",
       "      <td>The Shawshank Redemption</td>\n",
       "      <td>9.2</td>\n",
       "      <td>1994</td>\n",
       "    </tr>\n",
       "    <tr>\n",
       "      <th>1</th>\n",
       "      <td>The Godfather</td>\n",
       "      <td>9.2</td>\n",
       "      <td>1972</td>\n",
       "    </tr>\n",
       "    <tr>\n",
       "      <th>2</th>\n",
       "      <td>The Dark Knight</td>\n",
       "      <td>9.0</td>\n",
       "      <td>2008</td>\n",
       "    </tr>\n",
       "    <tr>\n",
       "      <th>3</th>\n",
       "      <td>The Godfather Part II</td>\n",
       "      <td>9.0</td>\n",
       "      <td>1974</td>\n",
       "    </tr>\n",
       "    <tr>\n",
       "      <th>4</th>\n",
       "      <td>12 Angry Men</td>\n",
       "      <td>8.9</td>\n",
       "      <td>1957</td>\n",
       "    </tr>\n",
       "    <tr>\n",
       "      <th>...</th>\n",
       "      <td>...</td>\n",
       "      <td>...</td>\n",
       "      <td>...</td>\n",
       "    </tr>\n",
       "    <tr>\n",
       "      <th>95</th>\n",
       "      <td>Citizen Kane</td>\n",
       "      <td>8.3</td>\n",
       "      <td>1941</td>\n",
       "    </tr>\n",
       "    <tr>\n",
       "      <th>96</th>\n",
       "      <td>M - Eine Stadt sucht einen Mörder</td>\n",
       "      <td>8.3</td>\n",
       "      <td>1931</td>\n",
       "    </tr>\n",
       "    <tr>\n",
       "      <th>97</th>\n",
       "      <td>North by Northwest</td>\n",
       "      <td>8.3</td>\n",
       "      <td>1959</td>\n",
       "    </tr>\n",
       "    <tr>\n",
       "      <th>98</th>\n",
       "      <td>Idi i smotri</td>\n",
       "      <td>8.2</td>\n",
       "      <td>1985</td>\n",
       "    </tr>\n",
       "    <tr>\n",
       "      <th>99</th>\n",
       "      <td>Vertigo</td>\n",
       "      <td>8.2</td>\n",
       "      <td>1958</td>\n",
       "    </tr>\n",
       "  </tbody>\n",
       "</table>\n",
       "<p>100 rows × 3 columns</p>\n",
       "</div>"
      ],
      "text/plain": [
       "                                Movie Names Ratings Release Year\n",
       "0                  The Shawshank Redemption     9.2         1994\n",
       "1                             The Godfather     9.2         1972\n",
       "2                           The Dark Knight     9.0         2008\n",
       "3                     The Godfather Part II     9.0         1974\n",
       "4                              12 Angry Men     8.9         1957\n",
       "..                                      ...     ...          ...\n",
       "95                             Citizen Kane     8.3         1941\n",
       "96        M - Eine Stadt sucht einen Mörder     8.3         1931\n",
       "97                       North by Northwest     8.3         1959\n",
       "98                             Idi i smotri     8.2         1985\n",
       "99                                  Vertigo     8.2         1958\n",
       "\n",
       "[100 rows x 3 columns]"
      ]
     },
     "execution_count": 18,
     "metadata": {},
     "output_type": "execute_result"
    }
   ],
   "source": [
    "#store scrapped data\n",
    "data = pd.DataFrame()\n",
    "data['Movie Names'] = movies\n",
    "data['Ratings'] = ratings\n",
    "data[\"Release Year\"] = years\n",
    "data.head(100)\n"
   ]
  },
  {
   "cell_type": "code",
   "execution_count": 19,
   "id": "8913b131",
   "metadata": {},
   "outputs": [],
   "source": [
    "data.to_excel(\"IMDB top movies.xlsx\", index=False)"
   ]
  },
  {
   "cell_type": "code",
   "execution_count": null,
   "id": "25a9f7aa",
   "metadata": {},
   "outputs": [],
   "source": []
  },
  {
   "cell_type": "markdown",
   "id": "8f2f4c62",
   "metadata": {},
   "source": [
    "Write a python program to display IMDB’s Top rated 100 Indian movies’ data (i.e. name, rating, year of release) and make data frame."
   ]
  },
  {
   "cell_type": "code",
   "execution_count": 20,
   "id": "03a4180d",
   "metadata": {},
   "outputs": [],
   "source": [
    "from bs4 import BeautifulSoup\n",
    "import requests\n",
    "import pandas as pd"
   ]
  },
  {
   "cell_type": "code",
   "execution_count": 21,
   "id": "7d914daf",
   "metadata": {},
   "outputs": [],
   "source": [
    "url = \"https://www.imdb.com/india/top-rated-indian-movies/\""
   ]
  },
  {
   "cell_type": "code",
   "execution_count": 22,
   "id": "961ace23",
   "metadata": {},
   "outputs": [],
   "source": [
    "response = requests.get(url)\n",
    "#response"
   ]
  },
  {
   "cell_type": "code",
   "execution_count": 23,
   "id": "79eb2606",
   "metadata": {},
   "outputs": [],
   "source": [
    "soup = BeautifulSoup(response.content, \"html.parser\")\n",
    "#print(soup.prettify())"
   ]
  },
  {
   "cell_type": "code",
   "execution_count": 24,
   "id": "a93bbade",
   "metadata": {},
   "outputs": [],
   "source": [
    "scrapped_movies = soup.find_all(\"td\", class_=\"titleColumn\")\n",
    "#movies"
   ]
  },
  {
   "cell_type": "code",
   "execution_count": null,
   "id": "70295a0b",
   "metadata": {},
   "outputs": [],
   "source": []
  },
  {
   "cell_type": "code",
   "execution_count": 25,
   "id": "f62bceb2",
   "metadata": {},
   "outputs": [],
   "source": [
    "movies = []\n",
    "for movie in scrapped_movies:\n",
    "    movie = movie.get_text().replace(\"\\n\",\"\")\n",
    "    movie = movie.strip(\" \")\n",
    "    movie = movie.split(\".\")[1].split(\"(\")[0]\n",
    "    movies.append(movie)\n",
    "#movies"
   ]
  },
  {
   "cell_type": "code",
   "execution_count": 26,
   "id": "d506d170",
   "metadata": {},
   "outputs": [],
   "source": [
    "release_year=soup.find_all('span',class_='secondaryInfo')\n",
    "#release_year"
   ]
  },
  {
   "cell_type": "code",
   "execution_count": 27,
   "id": "2d2e05b1",
   "metadata": {},
   "outputs": [],
   "source": [
    "years =[]\n",
    "for year in release_year:\n",
    "    year = year.get_text().replace(\"\\n\", \"\").replace('(', \"\").replace(')', \"\")\n",
    "    year = year.strip(\" \")\n",
    "    years.append(year)\n",
    "#years"
   ]
  },
  {
   "cell_type": "code",
   "execution_count": 28,
   "id": "d99f1f45",
   "metadata": {},
   "outputs": [],
   "source": [
    "scrap_ratings = soup.find_all('td', class_=\"ratingColumn imdbRating\")\n",
    "#scrap_ratings"
   ]
  },
  {
   "cell_type": "code",
   "execution_count": 29,
   "id": "87c330c6",
   "metadata": {},
   "outputs": [],
   "source": [
    "ratings = []\n",
    "\n",
    "for rate in scrap_ratings:\n",
    "    rate = rate.get_text().replace(\"\\n\", \"\")\n",
    "    rate = rate.strip(\" \")\n",
    "    ratings.append(rate)\n",
    "#ratings"
   ]
  },
  {
   "cell_type": "code",
   "execution_count": 30,
   "id": "00998ce8",
   "metadata": {},
   "outputs": [
    {
     "data": {
      "text/html": [
       "<div>\n",
       "<style scoped>\n",
       "    .dataframe tbody tr th:only-of-type {\n",
       "        vertical-align: middle;\n",
       "    }\n",
       "\n",
       "    .dataframe tbody tr th {\n",
       "        vertical-align: top;\n",
       "    }\n",
       "\n",
       "    .dataframe thead th {\n",
       "        text-align: right;\n",
       "    }\n",
       "</style>\n",
       "<table border=\"1\" class=\"dataframe\">\n",
       "  <thead>\n",
       "    <tr style=\"text-align: right;\">\n",
       "      <th></th>\n",
       "      <th>Movie Names</th>\n",
       "      <th>Ratings</th>\n",
       "      <th>Release Year</th>\n",
       "    </tr>\n",
       "  </thead>\n",
       "  <tbody>\n",
       "    <tr>\n",
       "      <th>0</th>\n",
       "      <td>Rocketry: The Nambi Effect</td>\n",
       "      <td>8.5</td>\n",
       "      <td>2022</td>\n",
       "    </tr>\n",
       "    <tr>\n",
       "      <th>1</th>\n",
       "      <td>Anbe Sivam</td>\n",
       "      <td>8.4</td>\n",
       "      <td>2003</td>\n",
       "    </tr>\n",
       "    <tr>\n",
       "      <th>2</th>\n",
       "      <td>Jai Bhim</td>\n",
       "      <td>8.4</td>\n",
       "      <td>2021</td>\n",
       "    </tr>\n",
       "    <tr>\n",
       "      <th>3</th>\n",
       "      <td>Nayakan</td>\n",
       "      <td>8.4</td>\n",
       "      <td>1987</td>\n",
       "    </tr>\n",
       "    <tr>\n",
       "      <th>4</th>\n",
       "      <td>Golmaal</td>\n",
       "      <td>8.4</td>\n",
       "      <td>1979</td>\n",
       "    </tr>\n",
       "    <tr>\n",
       "      <th>...</th>\n",
       "      <td>...</td>\n",
       "      <td>...</td>\n",
       "      <td>...</td>\n",
       "    </tr>\n",
       "    <tr>\n",
       "      <th>95</th>\n",
       "      <td>Ustad Hotel</td>\n",
       "      <td>8.0</td>\n",
       "      <td>2012</td>\n",
       "    </tr>\n",
       "    <tr>\n",
       "      <th>96</th>\n",
       "      <td>The Legend of Bhagat Singh</td>\n",
       "      <td>8.0</td>\n",
       "      <td>2002</td>\n",
       "    </tr>\n",
       "    <tr>\n",
       "      <th>97</th>\n",
       "      <td>Virumandi</td>\n",
       "      <td>8.0</td>\n",
       "      <td>2004</td>\n",
       "    </tr>\n",
       "    <tr>\n",
       "      <th>98</th>\n",
       "      <td>Baahubali 2: The Conclusion</td>\n",
       "      <td>8.0</td>\n",
       "      <td>2017</td>\n",
       "    </tr>\n",
       "    <tr>\n",
       "      <th>99</th>\n",
       "      <td>Angoor</td>\n",
       "      <td>8.0</td>\n",
       "      <td>1982</td>\n",
       "    </tr>\n",
       "  </tbody>\n",
       "</table>\n",
       "<p>100 rows × 3 columns</p>\n",
       "</div>"
      ],
      "text/plain": [
       "                          Movie Names Ratings Release Year\n",
       "0          Rocketry: The Nambi Effect     8.5         2022\n",
       "1                          Anbe Sivam     8.4         2003\n",
       "2                            Jai Bhim     8.4         2021\n",
       "3                             Nayakan     8.4         1987\n",
       "4                             Golmaal     8.4         1979\n",
       "..                                ...     ...          ...\n",
       "95                        Ustad Hotel     8.0         2012\n",
       "96         The Legend of Bhagat Singh     8.0         2002\n",
       "97                          Virumandi     8.0         2004\n",
       "98        Baahubali 2: The Conclusion     8.0         2017\n",
       "99                             Angoor     8.0         1982\n",
       "\n",
       "[100 rows x 3 columns]"
      ]
     },
     "execution_count": 30,
     "metadata": {},
     "output_type": "execute_result"
    }
   ],
   "source": [
    "#store scrapped data\n",
    "data = pd.DataFrame()\n",
    "data['Movie Names'] = movies\n",
    "data['Ratings'] = ratings\n",
    "data[\"Release Year\"] = years\n",
    "data.head(100)"
   ]
  },
  {
   "cell_type": "code",
   "execution_count": 31,
   "id": "381a45ae",
   "metadata": {},
   "outputs": [],
   "source": [
    "data.to_excel(\"IMDB top movies.xlsx\", index=False)"
   ]
  },
  {
   "cell_type": "code",
   "execution_count": null,
   "id": "fc22ad81",
   "metadata": {},
   "outputs": [],
   "source": []
  },
  {
   "cell_type": "markdown",
   "id": "1e4b9d90",
   "metadata": {},
   "source": [
    "Write s python program to display list of respected former presidents of India(i.e. Name , Term of office)\n",
    "from https://presidentofindia.nic.in/former-presidents.htm"
   ]
  },
  {
   "cell_type": "code",
   "execution_count": 32,
   "id": "25fd8c8e",
   "metadata": {},
   "outputs": [],
   "source": [
    "from bs4 import BeautifulSoup\n",
    "import requests\n",
    "import pandas as pd"
   ]
  },
  {
   "cell_type": "code",
   "execution_count": 33,
   "id": "52beb9cd",
   "metadata": {},
   "outputs": [],
   "source": [
    "url = \"https://presidentofindia.nic.in/former-presidents.htm\""
   ]
  },
  {
   "cell_type": "code",
   "execution_count": 34,
   "id": "2d53116f",
   "metadata": {},
   "outputs": [],
   "source": [
    "response = requests.get(url)\n",
    "#response"
   ]
  },
  {
   "cell_type": "code",
   "execution_count": 35,
   "id": "46d6ec1b",
   "metadata": {},
   "outputs": [],
   "source": [
    "soup = BeautifulSoup(response.content, \"html.parser\")\n",
    "#print(soup.prettify())"
   ]
  },
  {
   "cell_type": "code",
   "execution_count": 36,
   "id": "d7316130",
   "metadata": {},
   "outputs": [],
   "source": [
    "former_president = soup.find_all(\"div\", class_=\"presidentListing\")\n",
    "#former_president"
   ]
  },
  {
   "cell_type": "code",
   "execution_count": 37,
   "id": "330f32ce",
   "metadata": {},
   "outputs": [],
   "source": [
    "presidents = []\n",
    "for president in soup.find_all(\"h3\"):\n",
    "    president = president.text.split(\"(\")[0]\n",
    "    presidents.append(president)\n",
    "#presidents  "
   ]
  },
  {
   "cell_type": "code",
   "execution_count": 38,
   "id": "942e2712",
   "metadata": {},
   "outputs": [],
   "source": [
    "terms_office = soup.find_all(\"span\",\"terms\")\n",
    "terms_offices = []\n",
    "for term in terms_office:\n",
    "    term = term.parent.text.split(\":\")[1]\n",
    "    terms_offices.append(term)\n",
    "#terms_offices"
   ]
  },
  {
   "cell_type": "code",
   "execution_count": 39,
   "id": "0a422878",
   "metadata": {},
   "outputs": [
    {
     "data": {
      "text/html": [
       "<div>\n",
       "<style scoped>\n",
       "    .dataframe tbody tr th:only-of-type {\n",
       "        vertical-align: middle;\n",
       "    }\n",
       "\n",
       "    .dataframe tbody tr th {\n",
       "        vertical-align: top;\n",
       "    }\n",
       "\n",
       "    .dataframe thead th {\n",
       "        text-align: right;\n",
       "    }\n",
       "</style>\n",
       "<table border=\"1\" class=\"dataframe\">\n",
       "  <thead>\n",
       "    <tr style=\"text-align: right;\">\n",
       "      <th></th>\n",
       "      <th>Former Presidents</th>\n",
       "      <th>Term of Office</th>\n",
       "    </tr>\n",
       "  </thead>\n",
       "  <tbody>\n",
       "    <tr>\n",
       "      <th>1</th>\n",
       "      <td>Shri Ram Nath Kovind</td>\n",
       "      <td>25 July, 2017 to 25 July, 2022</td>\n",
       "    </tr>\n",
       "    <tr>\n",
       "      <th>2</th>\n",
       "      <td>Shri Pranab Mukherjee</td>\n",
       "      <td>25 July, 2012 to 25 July, 2017</td>\n",
       "    </tr>\n",
       "    <tr>\n",
       "      <th>3</th>\n",
       "      <td>Smt Pratibha Devisingh Patil</td>\n",
       "      <td>25 July, 2007 to 25 July, 2012</td>\n",
       "    </tr>\n",
       "    <tr>\n",
       "      <th>4</th>\n",
       "      <td>DR. A.P.J. Abdul Kalam</td>\n",
       "      <td>25 July, 2002 to 25 July, 2007</td>\n",
       "    </tr>\n",
       "    <tr>\n",
       "      <th>5</th>\n",
       "      <td>Shri K. R. Narayanan</td>\n",
       "      <td>25 July, 1997 to 25 July, 2002</td>\n",
       "    </tr>\n",
       "    <tr>\n",
       "      <th>6</th>\n",
       "      <td>Dr Shankar Dayal Sharma</td>\n",
       "      <td>25 July, 1992 to 25 July, 1997</td>\n",
       "    </tr>\n",
       "    <tr>\n",
       "      <th>7</th>\n",
       "      <td>Shri R Venkataraman</td>\n",
       "      <td>25 July, 1987 to 25 July, 1992</td>\n",
       "    </tr>\n",
       "    <tr>\n",
       "      <th>8</th>\n",
       "      <td>Giani Zail Singh</td>\n",
       "      <td>25 July, 1982 to 25 July, 1987</td>\n",
       "    </tr>\n",
       "    <tr>\n",
       "      <th>9</th>\n",
       "      <td>Shri Neelam Sanjiva Reddy</td>\n",
       "      <td>25 July, 1977 to 25 July, 1982</td>\n",
       "    </tr>\n",
       "    <tr>\n",
       "      <th>10</th>\n",
       "      <td>Dr. Fakhruddin Ali Ahmed</td>\n",
       "      <td>24 August, 1974 to 11 February, 1977</td>\n",
       "    </tr>\n",
       "    <tr>\n",
       "      <th>11</th>\n",
       "      <td>Shri Varahagiri Venkata Giri</td>\n",
       "      <td>3 May, 1969 to 20 July, 1969 and 24 August, 1...</td>\n",
       "    </tr>\n",
       "    <tr>\n",
       "      <th>12</th>\n",
       "      <td>Dr. Zakir Husain</td>\n",
       "      <td>13 May, 1967 to 3 May, 1969</td>\n",
       "    </tr>\n",
       "    <tr>\n",
       "      <th>13</th>\n",
       "      <td>Dr. Sarvepalli Radhakrishnan</td>\n",
       "      <td>13 May, 1962 to 13 May, 1967</td>\n",
       "    </tr>\n",
       "    <tr>\n",
       "      <th>14</th>\n",
       "      <td>Dr. Rajendra Prasad</td>\n",
       "      <td>26 January, 1950 to 13 May, 1962</td>\n",
       "    </tr>\n",
       "  </tbody>\n",
       "</table>\n",
       "</div>"
      ],
      "text/plain": [
       "                Former Presidents  \\\n",
       "1           Shri Ram Nath Kovind    \n",
       "2          Shri Pranab Mukherjee    \n",
       "3   Smt Pratibha Devisingh Patil    \n",
       "4         DR. A.P.J. Abdul Kalam    \n",
       "5           Shri K. R. Narayanan    \n",
       "6        Dr Shankar Dayal Sharma    \n",
       "7            Shri R Venkataraman    \n",
       "8               Giani Zail Singh    \n",
       "9      Shri Neelam Sanjiva Reddy    \n",
       "10      Dr. Fakhruddin Ali Ahmed    \n",
       "11  Shri Varahagiri Venkata Giri    \n",
       "12              Dr. Zakir Husain    \n",
       "13  Dr. Sarvepalli Radhakrishnan    \n",
       "14           Dr. Rajendra Prasad    \n",
       "\n",
       "                                       Term of Office  \n",
       "1                     25 July, 2017 to 25 July, 2022   \n",
       "2                     25 July, 2012 to 25 July, 2017   \n",
       "3                     25 July, 2007 to 25 July, 2012   \n",
       "4                     25 July, 2002 to 25 July, 2007   \n",
       "5                     25 July, 1997 to 25 July, 2002   \n",
       "6                     25 July, 1992 to 25 July, 1997   \n",
       "7                     25 July, 1987 to 25 July, 1992   \n",
       "8                     25 July, 1982 to 25 July, 1987   \n",
       "9                     25 July, 1977 to 25 July, 1982   \n",
       "10               24 August, 1974 to 11 February, 1977  \n",
       "11   3 May, 1969 to 20 July, 1969 and 24 August, 1...  \n",
       "12                        13 May, 1967 to 3 May, 1969  \n",
       "13                       13 May, 1962 to 13 May, 1967  \n",
       "14                   26 January, 1950 to 13 May, 1962  "
      ]
     },
     "execution_count": 39,
     "metadata": {},
     "output_type": "execute_result"
    }
   ],
   "source": [
    "#store scrapped data\n",
    "import numpy as np\n",
    "data = pd.DataFrame()\n",
    "data['Former Presidents'] = presidents\n",
    "data['Term of Office'] = terms_offices\n",
    "data = data.set_index(np.arange(1,len(data)+1))\n",
    "data.head(14)"
   ]
  },
  {
   "cell_type": "code",
   "execution_count": null,
   "id": "9d977ff3",
   "metadata": {},
   "outputs": [],
   "source": []
  },
  {
   "cell_type": "markdown",
   "id": "83fccf48",
   "metadata": {},
   "source": [
    "Write a python program to scrape cricket rankings from icc-cricket.com. You have to scrape:\n",
    "    \n",
    "a) Top 10 ODI teams in men’s cricket along with the records for matches, points and rating.\n",
    "\n",
    "b) Top 10 ODI Batsmen along with the records of their team and rating.\n",
    "\n",
    "c) Top 10 ODI bowlers along with the records of their team and rating."
   ]
  },
  {
   "cell_type": "code",
   "execution_count": 40,
   "id": "56d1bb42",
   "metadata": {},
   "outputs": [],
   "source": [
    "from bs4 import BeautifulSoup\n",
    "import requests\n",
    "import pandas as pd"
   ]
  },
  {
   "cell_type": "markdown",
   "id": "6ac91827",
   "metadata": {},
   "source": [
    "a) Top 10 ODI teams in men’s cricket along with the records for matches, points and rating."
   ]
  },
  {
   "cell_type": "code",
   "execution_count": 41,
   "id": "e47245c5",
   "metadata": {},
   "outputs": [],
   "source": [
    "url = \"https://www.icc-cricket.com/rankings/mens/team-rankings/odi\""
   ]
  },
  {
   "cell_type": "code",
   "execution_count": 42,
   "id": "c7bcda4d",
   "metadata": {},
   "outputs": [],
   "source": [
    "page = requests.get(url)\n",
    "#page"
   ]
  },
  {
   "cell_type": "code",
   "execution_count": 43,
   "id": "65e1865d",
   "metadata": {},
   "outputs": [],
   "source": [
    "soup = BeautifulSoup(page.content, \"html.parser\")\n",
    "#print(soup.prettify())"
   ]
  },
  {
   "cell_type": "code",
   "execution_count": 44,
   "id": "2b75cc72",
   "metadata": {},
   "outputs": [],
   "source": [
    "odi_team = soup.find_all(\"span\", class_=\"u-hide-phablet\")\n",
    "#odi_team"
   ]
  },
  {
   "cell_type": "code",
   "execution_count": 45,
   "id": "d64fbb4e",
   "metadata": {},
   "outputs": [],
   "source": [
    "teams = []\n",
    "for team in odi_team:\n",
    "    team = team.text\n",
    "    teams.append(team)\n",
    "#teams"
   ]
  },
  {
   "cell_type": "code",
   "execution_count": 46,
   "id": "f4a51872",
   "metadata": {},
   "outputs": [],
   "source": [
    "odi_matches = soup.find_all(\"td\",class_=\"rankings-block__banner--matches\") + soup.find_all(\"td\", class_=\"table-body__cell u-center-text\")\n",
    "#odi_matches"
   ]
  },
  {
   "cell_type": "code",
   "execution_count": 47,
   "id": "56b6ec5f",
   "metadata": {},
   "outputs": [],
   "source": [
    "matches = []\n",
    "count=0\n",
    "for match in odi_matches:\n",
    "    if(count==0):\n",
    "        match = match.text\n",
    "        matches.append(match)\n",
    "    elif(count%2!=0):\n",
    "        match = match.text\n",
    "        matches.append(match)\n",
    "    count+=1\n",
    "#matches"
   ]
  },
  {
   "cell_type": "code",
   "execution_count": 48,
   "id": "26bf0262",
   "metadata": {},
   "outputs": [],
   "source": [
    "odi_points = soup.find_all(\"td\", class_=\"rankings-block__banner--points\") + soup.find_all(\"td\", class_=\"table-body__cell u-center-text\")\n",
    "#odi_points"
   ]
  },
  {
   "cell_type": "code",
   "execution_count": 49,
   "id": "d6c5f1d3",
   "metadata": {},
   "outputs": [],
   "source": [
    "points = []\n",
    "count = 0\n",
    "for point in odi_points:\n",
    "    if (count==0):\n",
    "        point = point.text\n",
    "        points.append(point)\n",
    "    elif (count%2==0):\n",
    "        point = point.text\n",
    "        points.append(point)\n",
    "    count+=1\n",
    "#points\n",
    "    "
   ]
  },
  {
   "cell_type": "code",
   "execution_count": 50,
   "id": "7455d41e",
   "metadata": {},
   "outputs": [],
   "source": [
    "odi_ratings = soup.find_all(\"td\", class_=\"rankings-block__banner--rating u-text-right\")+ soup.find_all(\"td\", class_=\"table-body__cell u-text-right rating\")\n",
    "#odi_ratings"
   ]
  },
  {
   "cell_type": "code",
   "execution_count": 51,
   "id": "2383de9e",
   "metadata": {},
   "outputs": [],
   "source": [
    "ratings = []\n",
    "for rating in odi_ratings:\n",
    "    rating = rating.text.strip(\"\\n\").strip(\" \").strip(\"\\n\")\n",
    "    ratings.append(rating)\n",
    "#ratings"
   ]
  },
  {
   "cell_type": "code",
   "execution_count": 52,
   "id": "681cd82a",
   "metadata": {},
   "outputs": [
    {
     "data": {
      "text/html": [
       "<div>\n",
       "<style scoped>\n",
       "    .dataframe tbody tr th:only-of-type {\n",
       "        vertical-align: middle;\n",
       "    }\n",
       "\n",
       "    .dataframe tbody tr th {\n",
       "        vertical-align: top;\n",
       "    }\n",
       "\n",
       "    .dataframe thead th {\n",
       "        text-align: right;\n",
       "    }\n",
       "</style>\n",
       "<table border=\"1\" class=\"dataframe\">\n",
       "  <thead>\n",
       "    <tr style=\"text-align: right;\">\n",
       "      <th></th>\n",
       "      <th>TEAM</th>\n",
       "      <th>MATCHES</th>\n",
       "      <th>POINTS</th>\n",
       "      <th>RATING</th>\n",
       "    </tr>\n",
       "  </thead>\n",
       "  <tbody>\n",
       "    <tr>\n",
       "      <th>1</th>\n",
       "      <td>England</td>\n",
       "      <td>27</td>\n",
       "      <td>3,226</td>\n",
       "      <td>119</td>\n",
       "    </tr>\n",
       "    <tr>\n",
       "      <th>2</th>\n",
       "      <td>New Zealand</td>\n",
       "      <td>22</td>\n",
       "      <td>2,508</td>\n",
       "      <td>114</td>\n",
       "    </tr>\n",
       "    <tr>\n",
       "      <th>3</th>\n",
       "      <td>India</td>\n",
       "      <td>31</td>\n",
       "      <td>3,447</td>\n",
       "      <td>111</td>\n",
       "    </tr>\n",
       "    <tr>\n",
       "      <th>4</th>\n",
       "      <td>Pakistan</td>\n",
       "      <td>22</td>\n",
       "      <td>2,354</td>\n",
       "      <td>107</td>\n",
       "    </tr>\n",
       "    <tr>\n",
       "      <th>5</th>\n",
       "      <td>Australia</td>\n",
       "      <td>29</td>\n",
       "      <td>3,071</td>\n",
       "      <td>106</td>\n",
       "    </tr>\n",
       "  </tbody>\n",
       "</table>\n",
       "</div>"
      ],
      "text/plain": [
       "          TEAM MATCHES POINTS RATING\n",
       "1      England      27  3,226    119\n",
       "2  New Zealand      22  2,508    114\n",
       "3        India      31  3,447    111\n",
       "4     Pakistan      22  2,354    107\n",
       "5    Australia      29  3,071    106"
      ]
     },
     "execution_count": 52,
     "metadata": {},
     "output_type": "execute_result"
    }
   ],
   "source": [
    "#store scrapped data\n",
    "import numpy as np\n",
    "data = pd.DataFrame()\n",
    "data['TEAM'] = teams\n",
    "data['MATCHES'] = matches\n",
    "data['POINTS'] = points\n",
    "data['RATING'] = ratings\n",
    "data = data.set_index(np.arange(1,len(data)+1))\n",
    "data.head()"
   ]
  },
  {
   "cell_type": "code",
   "execution_count": null,
   "id": "ccedc1be",
   "metadata": {},
   "outputs": [],
   "source": []
  },
  {
   "cell_type": "markdown",
   "id": "e83d5d1a",
   "metadata": {},
   "source": [
    "b) Top 10 ODI Batsmen along with the records of their team and rating.\n",
    "\n",
    "c) Top 10 ODI bowlers along with the records of their team and rating."
   ]
  },
  {
   "cell_type": "code",
   "execution_count": 53,
   "id": "b8e57fef",
   "metadata": {},
   "outputs": [],
   "source": [
    "url_player = \"https://www.icc-cricket.com/rankings/mens/player-rankings/odi\""
   ]
  },
  {
   "cell_type": "code",
   "execution_count": 54,
   "id": "5cb386d7",
   "metadata": {},
   "outputs": [],
   "source": [
    "player_page = requests.get(url_player)\n",
    "#page"
   ]
  },
  {
   "cell_type": "code",
   "execution_count": 55,
   "id": "56580532",
   "metadata": {},
   "outputs": [],
   "source": [
    "soup = BeautifulSoup(player_page.content, \"html.parser\")\n",
    "#print(soup.prettify())"
   ]
  },
  {
   "cell_type": "code",
   "execution_count": 56,
   "id": "64bef07a",
   "metadata": {},
   "outputs": [],
   "source": [
    "first_playerx = soup.find(\"div\", class_=\"rankings-block__banner--name\").text\n",
    "odi_players = soup.find_all(\"td\",class_=\"table-body__cell name\")\n",
    "# odi_players"
   ]
  },
  {
   "cell_type": "code",
   "execution_count": 57,
   "id": "3282383a",
   "metadata": {},
   "outputs": [],
   "source": [
    "top_player = [first_playerx]\n",
    "for player in odi_players:\n",
    "    player = player.a.text\n",
    "    top_player.append(player)\n",
    "# top_player"
   ]
  },
  {
   "cell_type": "code",
   "execution_count": 58,
   "id": "faaafdd3",
   "metadata": {},
   "outputs": [],
   "source": [
    "first_team = soup.find(\"div\", class_=\"rankings-block__banner--nationality\").text.strip(\"\\n\").split(\"\\n\")[0]\n",
    "top_team = soup.find_all(\"span\",class_='table-body__logo-text')\n",
    "#first_team\n",
    "# top_team"
   ]
  },
  {
   "cell_type": "code",
   "execution_count": 59,
   "id": "4334d6ff",
   "metadata": {},
   "outputs": [],
   "source": [
    "teams = [first_team]\n",
    "for team in top_team:\n",
    "    team = team.text\n",
    "    teams.append(team)\n",
    "# teams.pop()\n",
    "#teams"
   ]
  },
  {
   "cell_type": "code",
   "execution_count": 60,
   "id": "0b0e7c0d",
   "metadata": {},
   "outputs": [],
   "source": [
    "first_ratings = soup.find(\"div\", class_=\"rankings-block__banner--rating\").text\n",
    "top_ratings = soup.find_all(\"td\", class_=\"table-body__cell u-text-right rating\")\n",
    "#top_ratings\n",
    "#first_ratings"
   ]
  },
  {
   "cell_type": "code",
   "execution_count": 61,
   "id": "70a6e24e",
   "metadata": {},
   "outputs": [],
   "source": [
    "ratings = [first_ratings]\n",
    "for rating in top_ratings:\n",
    "    rating = rating.text\n",
    "    ratings.append(rating)\n",
    "# ratings.pop()"
   ]
  },
  {
   "cell_type": "code",
   "execution_count": 62,
   "id": "f7c779d0",
   "metadata": {},
   "outputs": [
    {
     "data": {
      "text/plain": [
       "54"
      ]
     },
     "execution_count": 62,
     "metadata": {},
     "output_type": "execute_result"
    }
   ],
   "source": [
    "len(top_player)\n",
    "len(teams)\n",
    "len(top_ratings)"
   ]
  },
  {
   "cell_type": "code",
   "execution_count": 63,
   "id": "820a2078",
   "metadata": {},
   "outputs": [],
   "source": [
    "#store scrapped data\n",
    "import numpy as np\n",
    "data = pd.DataFrame()\n",
    "data['Player'] = top_player\n",
    "data['Team'] = teams\n",
    "data['RATING'] = ratings\n",
    "data = data.set_index(np.arange(1,len(data)+1))\n",
    "data_batsman = data.head(10)\n",
    "# data_batsman\n",
    "data_bowlers = data.iloc[10:20]\n",
    "data_bowlers=data_bowlers.set_index(np.arange(1,len(data_bowlers)+1))"
   ]
  },
  {
   "cell_type": "code",
   "execution_count": 64,
   "id": "99b89138",
   "metadata": {},
   "outputs": [
    {
     "data": {
      "text/html": [
       "<div>\n",
       "<style scoped>\n",
       "    .dataframe tbody tr th:only-of-type {\n",
       "        vertical-align: middle;\n",
       "    }\n",
       "\n",
       "    .dataframe tbody tr th {\n",
       "        vertical-align: top;\n",
       "    }\n",
       "\n",
       "    .dataframe thead th {\n",
       "        text-align: right;\n",
       "    }\n",
       "</style>\n",
       "<table border=\"1\" class=\"dataframe\">\n",
       "  <thead>\n",
       "    <tr style=\"text-align: right;\">\n",
       "      <th></th>\n",
       "      <th>Player</th>\n",
       "      <th>Team</th>\n",
       "      <th>RATING</th>\n",
       "    </tr>\n",
       "  </thead>\n",
       "  <tbody>\n",
       "    <tr>\n",
       "      <th>1</th>\n",
       "      <td>Babar Azam</td>\n",
       "      <td>PAK</td>\n",
       "      <td>890</td>\n",
       "    </tr>\n",
       "    <tr>\n",
       "      <th>2</th>\n",
       "      <td>Rassie van der Dussen</td>\n",
       "      <td>SA</td>\n",
       "      <td>789</td>\n",
       "    </tr>\n",
       "    <tr>\n",
       "      <th>3</th>\n",
       "      <td>Quinton de Kock</td>\n",
       "      <td>SA</td>\n",
       "      <td>784</td>\n",
       "    </tr>\n",
       "    <tr>\n",
       "      <th>4</th>\n",
       "      <td>Imam-ul-Haq</td>\n",
       "      <td>PAK</td>\n",
       "      <td>779</td>\n",
       "    </tr>\n",
       "    <tr>\n",
       "      <th>5</th>\n",
       "      <td>Virat Kohli</td>\n",
       "      <td>IND</td>\n",
       "      <td>744</td>\n",
       "    </tr>\n",
       "    <tr>\n",
       "      <th>6</th>\n",
       "      <td>Rohit Sharma</td>\n",
       "      <td>IND</td>\n",
       "      <td>740</td>\n",
       "    </tr>\n",
       "    <tr>\n",
       "      <th>7</th>\n",
       "      <td>Jonny Bairstow</td>\n",
       "      <td>ENG</td>\n",
       "      <td>732</td>\n",
       "    </tr>\n",
       "    <tr>\n",
       "      <th>8</th>\n",
       "      <td>David Warner</td>\n",
       "      <td>AUS</td>\n",
       "      <td>725</td>\n",
       "    </tr>\n",
       "    <tr>\n",
       "      <th>9</th>\n",
       "      <td>Ross Taylor</td>\n",
       "      <td>NZ</td>\n",
       "      <td>701</td>\n",
       "    </tr>\n",
       "    <tr>\n",
       "      <th>10</th>\n",
       "      <td>Steve Smith</td>\n",
       "      <td>AUS</td>\n",
       "      <td>697</td>\n",
       "    </tr>\n",
       "  </tbody>\n",
       "</table>\n",
       "</div>"
      ],
      "text/plain": [
       "                   Player Team RATING\n",
       "1              Babar Azam  PAK    890\n",
       "2   Rassie van der Dussen   SA    789\n",
       "3         Quinton de Kock   SA    784\n",
       "4             Imam-ul-Haq  PAK    779\n",
       "5             Virat Kohli  IND    744\n",
       "6            Rohit Sharma  IND    740\n",
       "7          Jonny Bairstow  ENG    732\n",
       "8            David Warner  AUS    725\n",
       "9             Ross Taylor   NZ    701\n",
       "10            Steve Smith  AUS    697"
      ]
     },
     "execution_count": 64,
     "metadata": {},
     "output_type": "execute_result"
    }
   ],
   "source": [
    "data_batsman"
   ]
  },
  {
   "cell_type": "code",
   "execution_count": 65,
   "id": "b3a3f2fa",
   "metadata": {},
   "outputs": [
    {
     "data": {
      "text/html": [
       "<div>\n",
       "<style scoped>\n",
       "    .dataframe tbody tr th:only-of-type {\n",
       "        vertical-align: middle;\n",
       "    }\n",
       "\n",
       "    .dataframe tbody tr th {\n",
       "        vertical-align: top;\n",
       "    }\n",
       "\n",
       "    .dataframe thead th {\n",
       "        text-align: right;\n",
       "    }\n",
       "</style>\n",
       "<table border=\"1\" class=\"dataframe\">\n",
       "  <thead>\n",
       "    <tr style=\"text-align: right;\">\n",
       "      <th></th>\n",
       "      <th>Player</th>\n",
       "      <th>Team</th>\n",
       "      <th>RATING</th>\n",
       "    </tr>\n",
       "  </thead>\n",
       "  <tbody>\n",
       "    <tr>\n",
       "      <th>1</th>\n",
       "      <td>Josh Hazlewood</td>\n",
       "      <td>AUS</td>\n",
       "      <td>718</td>\n",
       "    </tr>\n",
       "    <tr>\n",
       "      <th>2</th>\n",
       "      <td>Mujeeb Ur Rahman</td>\n",
       "      <td>AFG</td>\n",
       "      <td>676</td>\n",
       "    </tr>\n",
       "    <tr>\n",
       "      <th>3</th>\n",
       "      <td>Jasprit Bumrah</td>\n",
       "      <td>IND</td>\n",
       "      <td>662</td>\n",
       "    </tr>\n",
       "    <tr>\n",
       "      <th>4</th>\n",
       "      <td>Shaheen Afridi</td>\n",
       "      <td>PAK</td>\n",
       "      <td>661</td>\n",
       "    </tr>\n",
       "    <tr>\n",
       "      <th>5</th>\n",
       "      <td>Mohammad Nabi</td>\n",
       "      <td>AFG</td>\n",
       "      <td>657</td>\n",
       "    </tr>\n",
       "    <tr>\n",
       "      <th>6</th>\n",
       "      <td>Mehedi Hasan</td>\n",
       "      <td>BAN</td>\n",
       "      <td>655</td>\n",
       "    </tr>\n",
       "    <tr>\n",
       "      <th>7</th>\n",
       "      <td>Matt Henry</td>\n",
       "      <td>NZ</td>\n",
       "      <td>654</td>\n",
       "    </tr>\n",
       "    <tr>\n",
       "      <th>8</th>\n",
       "      <td>Mitchell Starc</td>\n",
       "      <td>AUS</td>\n",
       "      <td>653</td>\n",
       "    </tr>\n",
       "    <tr>\n",
       "      <th>9</th>\n",
       "      <td>Rashid Khan</td>\n",
       "      <td>AFG</td>\n",
       "      <td>651</td>\n",
       "    </tr>\n",
       "    <tr>\n",
       "      <th>10</th>\n",
       "      <td>Mohammad Nabi</td>\n",
       "      <td>AFG</td>\n",
       "      <td>325</td>\n",
       "    </tr>\n",
       "  </tbody>\n",
       "</table>\n",
       "</div>"
      ],
      "text/plain": [
       "              Player Team RATING\n",
       "1     Josh Hazlewood  AUS    718\n",
       "2   Mujeeb Ur Rahman  AFG    676\n",
       "3     Jasprit Bumrah  IND    662\n",
       "4     Shaheen Afridi  PAK    661\n",
       "5      Mohammad Nabi  AFG    657\n",
       "6       Mehedi Hasan  BAN    655\n",
       "7         Matt Henry   NZ    654\n",
       "8     Mitchell Starc  AUS    653\n",
       "9        Rashid Khan  AFG    651\n",
       "10     Mohammad Nabi  AFG    325"
      ]
     },
     "execution_count": 65,
     "metadata": {},
     "output_type": "execute_result"
    }
   ],
   "source": [
    "data_bowlers"
   ]
  },
  {
   "cell_type": "code",
   "execution_count": null,
   "id": "ce1f3097",
   "metadata": {},
   "outputs": [],
   "source": []
  },
  {
   "cell_type": "markdown",
   "id": "d396355e",
   "metadata": {},
   "source": [
    "Write a python program to scrape cricket rankings from icc-cricket.com. You have to scrape:\n",
    "    \n",
    "a) Top 10 ODI teams in women’s cricket along with the records for matches, points and rating.\n",
    "\n",
    "b) Top 10 women’s ODI Batting players along with the records of their team and rating.\n",
    "\n",
    "c) Top 10 women’s ODI all-rounder along with the records of their team and rating."
   ]
  },
  {
   "cell_type": "code",
   "execution_count": 66,
   "id": "93298510",
   "metadata": {},
   "outputs": [],
   "source": [
    "url = \"https://www.icc-cricket.com/rankings/womens/team-rankings/odi\""
   ]
  },
  {
   "cell_type": "code",
   "execution_count": 67,
   "id": "14caabf8",
   "metadata": {},
   "outputs": [],
   "source": [
    "page = requests.get(url)\n",
    "#page\n",
    "soup = BeautifulSoup(page.content, \"html.parser\")\n",
    "#print(soup.prettify())\n",
    "odi_team = soup.find_all(\"span\", class_=\"u-hide-phablet\")\n",
    "#odi_team"
   ]
  },
  {
   "cell_type": "code",
   "execution_count": 68,
   "id": "fc3a70d2",
   "metadata": {},
   "outputs": [],
   "source": [
    "teams = []\n",
    "for team in odi_team:\n",
    "    team = team.text\n",
    "    teams.append(team)\n",
    "#teams"
   ]
  },
  {
   "cell_type": "code",
   "execution_count": 69,
   "id": "02310bae",
   "metadata": {},
   "outputs": [],
   "source": [
    "odi_matches = soup.find_all(\"td\",class_=\"rankings-block__banner--matches\") + soup.find_all(\"td\", class_=\"table-body__cell u-center-text\")\n",
    "#odi_matches"
   ]
  },
  {
   "cell_type": "code",
   "execution_count": 70,
   "id": "777f83e4",
   "metadata": {},
   "outputs": [],
   "source": [
    "matches = []\n",
    "count=0\n",
    "for match in odi_matches:\n",
    "    if(count==0):\n",
    "        match = match.text\n",
    "        matches.append(match)\n",
    "    elif(count%2!=0):\n",
    "        match = match.text\n",
    "        matches.append(match)\n",
    "    count+=1\n",
    "#matches"
   ]
  },
  {
   "cell_type": "code",
   "execution_count": 71,
   "id": "516618d3",
   "metadata": {},
   "outputs": [],
   "source": [
    "odi_points = soup.find_all(\"td\", class_=\"rankings-block__banner--points\") + soup.find_all(\"td\", class_=\"table-body__cell u-center-text\")\n",
    "#odi_points"
   ]
  },
  {
   "cell_type": "code",
   "execution_count": 72,
   "id": "50bf84bf",
   "metadata": {},
   "outputs": [],
   "source": [
    "points = []\n",
    "count = 0\n",
    "for point in odi_points:\n",
    "    if (count==0):\n",
    "        point = point.text\n",
    "        points.append(point)\n",
    "    elif (count%2==0):\n",
    "        point = point.text\n",
    "        points.append(point)\n",
    "    count+=1\n",
    "#points\n",
    "    "
   ]
  },
  {
   "cell_type": "code",
   "execution_count": 73,
   "id": "b6f98d5a",
   "metadata": {},
   "outputs": [],
   "source": [
    "odi_ratings = soup.find_all(\"td\", class_=\"rankings-block__banner--rating u-text-right\")+ soup.find_all(\"td\", class_=\"table-body__cell u-text-right rating\")\n",
    "#odi_ratings"
   ]
  },
  {
   "cell_type": "code",
   "execution_count": 74,
   "id": "ef58d8d3",
   "metadata": {},
   "outputs": [],
   "source": [
    "ratings = []\n",
    "for rating in odi_ratings:\n",
    "    rating = rating.text.strip(\"\\n\").strip(\" \").strip(\"\\n\")\n",
    "    ratings.append(rating)\n",
    "#ratings"
   ]
  },
  {
   "cell_type": "code",
   "execution_count": 75,
   "id": "78d0f261",
   "metadata": {},
   "outputs": [
    {
     "data": {
      "text/html": [
       "<div>\n",
       "<style scoped>\n",
       "    .dataframe tbody tr th:only-of-type {\n",
       "        vertical-align: middle;\n",
       "    }\n",
       "\n",
       "    .dataframe tbody tr th {\n",
       "        vertical-align: top;\n",
       "    }\n",
       "\n",
       "    .dataframe thead th {\n",
       "        text-align: right;\n",
       "    }\n",
       "</style>\n",
       "<table border=\"1\" class=\"dataframe\">\n",
       "  <thead>\n",
       "    <tr style=\"text-align: right;\">\n",
       "      <th></th>\n",
       "      <th>TEAM</th>\n",
       "      <th>MATCHES</th>\n",
       "      <th>POINTS</th>\n",
       "      <th>RATING</th>\n",
       "    </tr>\n",
       "  </thead>\n",
       "  <tbody>\n",
       "    <tr>\n",
       "      <th>1</th>\n",
       "      <td>Australia</td>\n",
       "      <td>29</td>\n",
       "      <td>4,837</td>\n",
       "      <td>167</td>\n",
       "    </tr>\n",
       "    <tr>\n",
       "      <th>2</th>\n",
       "      <td>South Africa</td>\n",
       "      <td>35</td>\n",
       "      <td>4,157</td>\n",
       "      <td>119</td>\n",
       "    </tr>\n",
       "    <tr>\n",
       "      <th>3</th>\n",
       "      <td>England</td>\n",
       "      <td>36</td>\n",
       "      <td>4,205</td>\n",
       "      <td>117</td>\n",
       "    </tr>\n",
       "    <tr>\n",
       "      <th>4</th>\n",
       "      <td>India</td>\n",
       "      <td>35</td>\n",
       "      <td>3,732</td>\n",
       "      <td>107</td>\n",
       "    </tr>\n",
       "    <tr>\n",
       "      <th>5</th>\n",
       "      <td>New Zealand</td>\n",
       "      <td>33</td>\n",
       "      <td>3,302</td>\n",
       "      <td>100</td>\n",
       "    </tr>\n",
       "    <tr>\n",
       "      <th>6</th>\n",
       "      <td>West Indies</td>\n",
       "      <td>32</td>\n",
       "      <td>2,864</td>\n",
       "      <td>90</td>\n",
       "    </tr>\n",
       "    <tr>\n",
       "      <th>7</th>\n",
       "      <td>Bangladesh</td>\n",
       "      <td>12</td>\n",
       "      <td>930</td>\n",
       "      <td>78</td>\n",
       "    </tr>\n",
       "    <tr>\n",
       "      <th>8</th>\n",
       "      <td>Pakistan</td>\n",
       "      <td>30</td>\n",
       "      <td>1,962</td>\n",
       "      <td>65</td>\n",
       "    </tr>\n",
       "    <tr>\n",
       "      <th>9</th>\n",
       "      <td>Ireland</td>\n",
       "      <td>11</td>\n",
       "      <td>516</td>\n",
       "      <td>47</td>\n",
       "    </tr>\n",
       "    <tr>\n",
       "      <th>10</th>\n",
       "      <td>Sri Lanka</td>\n",
       "      <td>11</td>\n",
       "      <td>495</td>\n",
       "      <td>45</td>\n",
       "    </tr>\n",
       "  </tbody>\n",
       "</table>\n",
       "</div>"
      ],
      "text/plain": [
       "            TEAM MATCHES POINTS RATING\n",
       "1      Australia      29  4,837    167\n",
       "2   South Africa      35  4,157    119\n",
       "3        England      36  4,205    117\n",
       "4          India      35  3,732    107\n",
       "5    New Zealand      33  3,302    100\n",
       "6    West Indies      32  2,864     90\n",
       "7     Bangladesh      12    930     78\n",
       "8       Pakistan      30  1,962     65\n",
       "9        Ireland      11    516     47\n",
       "10     Sri Lanka      11    495     45"
      ]
     },
     "execution_count": 75,
     "metadata": {},
     "output_type": "execute_result"
    }
   ],
   "source": [
    "#store scrapped data\n",
    "import numpy as np\n",
    "data = pd.DataFrame()\n",
    "data['TEAM'] = teams\n",
    "data['MATCHES'] = matches\n",
    "data['POINTS'] = points\n",
    "data['RATING'] = ratings\n",
    "data = data.set_index(np.arange(1,len(data)+1))\n",
    "data.head(10)"
   ]
  },
  {
   "cell_type": "markdown",
   "id": "1acd27f9",
   "metadata": {},
   "source": [
    "b) Top 10 women’s ODI Batting players along with the records of their team and rating.\n",
    "\n",
    "c) Top 10 women’s ODI all-rounder along with the records of their team and rating."
   ]
  },
  {
   "cell_type": "code",
   "execution_count": 76,
   "id": "aa9dd4c2",
   "metadata": {},
   "outputs": [],
   "source": [
    "url_player = \"https://www.icc-cricket.com/rankings/womens/player-rankings/odi\""
   ]
  },
  {
   "cell_type": "code",
   "execution_count": 77,
   "id": "4d3f99dd",
   "metadata": {},
   "outputs": [],
   "source": [
    "player_page = requests.get(url_player)\n",
    "#page"
   ]
  },
  {
   "cell_type": "code",
   "execution_count": 78,
   "id": "17e99a9c",
   "metadata": {},
   "outputs": [],
   "source": [
    "soup = BeautifulSoup(player_page.content, \"html.parser\")\n",
    "#print(soup.prettify())"
   ]
  },
  {
   "cell_type": "code",
   "execution_count": 79,
   "id": "d7ca2828",
   "metadata": {},
   "outputs": [],
   "source": [
    "first_playerx = soup.find(\"div\", class_=\"rankings-block__banner--name\").text\n",
    "odi_players = soup.find_all(\"td\",class_=\"table-body__cell name\")\n",
    "# odi_players"
   ]
  },
  {
   "cell_type": "code",
   "execution_count": 80,
   "id": "5c4cdab0",
   "metadata": {},
   "outputs": [],
   "source": [
    "top_player = [first_playerx]\n",
    "for player in odi_players:\n",
    "    player = player.a.text\n",
    "    top_player.append(player)\n",
    "# top_player"
   ]
  },
  {
   "cell_type": "code",
   "execution_count": 81,
   "id": "ae11c35b",
   "metadata": {},
   "outputs": [],
   "source": [
    "first_team = soup.find(\"div\", class_=\"rankings-block__banner--nationality\").text.strip(\"\\n\").split(\"\\n\")[0]\n",
    "top_team = soup.find_all(\"span\",class_='table-body__logo-text')\n",
    "#first_team\n",
    "# top_team"
   ]
  },
  {
   "cell_type": "code",
   "execution_count": 82,
   "id": "c19ce329",
   "metadata": {},
   "outputs": [],
   "source": [
    "teams = [first_team]\n",
    "for team in top_team:\n",
    "    team = team.text\n",
    "    teams.append(team)\n",
    "# teams.pop()\n",
    "#teams"
   ]
  },
  {
   "cell_type": "code",
   "execution_count": 83,
   "id": "837decca",
   "metadata": {},
   "outputs": [],
   "source": [
    "first_ratings = soup.find(\"div\", class_=\"rankings-block__banner--rating\").text\n",
    "top_ratings = soup.find_all(\"td\", class_=\"table-body__cell u-text-right rating\")\n",
    "#top_ratings\n",
    "#first_ratings"
   ]
  },
  {
   "cell_type": "code",
   "execution_count": 84,
   "id": "56e74c8b",
   "metadata": {},
   "outputs": [],
   "source": [
    "ratings = [first_ratings]\n",
    "for rating in top_ratings:\n",
    "    rating = rating.text\n",
    "    ratings.append(rating)\n",
    "# ratings.pop()"
   ]
  },
  {
   "cell_type": "code",
   "execution_count": 85,
   "id": "7a5244cf",
   "metadata": {},
   "outputs": [],
   "source": [
    "#store scrapped data\n",
    "import numpy as np\n",
    "data = pd.DataFrame()\n",
    "data['Player'] = top_player\n",
    "data['Team'] = teams\n",
    "data['RATING'] = ratings\n",
    "data = data.set_index(np.arange(1,len(data)+1))\n",
    "data_batsman = data.head(10)\n",
    "# data_batsman\n",
    "data_allrounders = data.iloc[19:28]\n",
    "data_allrounders=data_allrounders.set_index(np.arange(1,len(data_allrounders)+1))"
   ]
  },
  {
   "cell_type": "code",
   "execution_count": 86,
   "id": "8c301076",
   "metadata": {},
   "outputs": [
    {
     "data": {
      "text/html": [
       "<div>\n",
       "<style scoped>\n",
       "    .dataframe tbody tr th:only-of-type {\n",
       "        vertical-align: middle;\n",
       "    }\n",
       "\n",
       "    .dataframe tbody tr th {\n",
       "        vertical-align: top;\n",
       "    }\n",
       "\n",
       "    .dataframe thead th {\n",
       "        text-align: right;\n",
       "    }\n",
       "</style>\n",
       "<table border=\"1\" class=\"dataframe\">\n",
       "  <thead>\n",
       "    <tr style=\"text-align: right;\">\n",
       "      <th></th>\n",
       "      <th>Player</th>\n",
       "      <th>Team</th>\n",
       "      <th>RATING</th>\n",
       "    </tr>\n",
       "  </thead>\n",
       "  <tbody>\n",
       "    <tr>\n",
       "      <th>1</th>\n",
       "      <td>Natalie Sciver</td>\n",
       "      <td>ENG</td>\n",
       "      <td>372</td>\n",
       "    </tr>\n",
       "    <tr>\n",
       "      <th>2</th>\n",
       "      <td>Marizanne Kapp</td>\n",
       "      <td>SA</td>\n",
       "      <td>349</td>\n",
       "    </tr>\n",
       "    <tr>\n",
       "      <th>3</th>\n",
       "      <td>Hayley Matthews</td>\n",
       "      <td>WI</td>\n",
       "      <td>339</td>\n",
       "    </tr>\n",
       "    <tr>\n",
       "      <th>4</th>\n",
       "      <td>Amelia Kerr</td>\n",
       "      <td>NZ</td>\n",
       "      <td>336</td>\n",
       "    </tr>\n",
       "    <tr>\n",
       "      <th>5</th>\n",
       "      <td>Deepti Sharma</td>\n",
       "      <td>IND</td>\n",
       "      <td>271</td>\n",
       "    </tr>\n",
       "    <tr>\n",
       "      <th>6</th>\n",
       "      <td>Ashleigh Gardner</td>\n",
       "      <td>AUS</td>\n",
       "      <td>270</td>\n",
       "    </tr>\n",
       "    <tr>\n",
       "      <th>7</th>\n",
       "      <td>Jess Jonassen</td>\n",
       "      <td>AUS</td>\n",
       "      <td>246</td>\n",
       "    </tr>\n",
       "    <tr>\n",
       "      <th>8</th>\n",
       "      <td>Jhulan Goswami</td>\n",
       "      <td>IND</td>\n",
       "      <td>219</td>\n",
       "    </tr>\n",
       "    <tr>\n",
       "      <th>9</th>\n",
       "      <td>Sophie Ecclestone</td>\n",
       "      <td>ENG</td>\n",
       "      <td>217</td>\n",
       "    </tr>\n",
       "  </tbody>\n",
       "</table>\n",
       "</div>"
      ],
      "text/plain": [
       "              Player Team RATING\n",
       "1     Natalie Sciver  ENG    372\n",
       "2     Marizanne Kapp   SA    349\n",
       "3    Hayley Matthews   WI    339\n",
       "4        Amelia Kerr   NZ    336\n",
       "5      Deepti Sharma  IND    271\n",
       "6   Ashleigh Gardner  AUS    270\n",
       "7      Jess Jonassen  AUS    246\n",
       "8     Jhulan Goswami  IND    219\n",
       "9  Sophie Ecclestone  ENG    217"
      ]
     },
     "execution_count": 86,
     "metadata": {},
     "output_type": "execute_result"
    }
   ],
   "source": [
    "data_allrounders"
   ]
  },
  {
   "cell_type": "code",
   "execution_count": 87,
   "id": "7f97ab71",
   "metadata": {},
   "outputs": [
    {
     "data": {
      "text/html": [
       "<div>\n",
       "<style scoped>\n",
       "    .dataframe tbody tr th:only-of-type {\n",
       "        vertical-align: middle;\n",
       "    }\n",
       "\n",
       "    .dataframe tbody tr th {\n",
       "        vertical-align: top;\n",
       "    }\n",
       "\n",
       "    .dataframe thead th {\n",
       "        text-align: right;\n",
       "    }\n",
       "</style>\n",
       "<table border=\"1\" class=\"dataframe\">\n",
       "  <thead>\n",
       "    <tr style=\"text-align: right;\">\n",
       "      <th></th>\n",
       "      <th>Player</th>\n",
       "      <th>Team</th>\n",
       "      <th>RATING</th>\n",
       "    </tr>\n",
       "  </thead>\n",
       "  <tbody>\n",
       "    <tr>\n",
       "      <th>1</th>\n",
       "      <td>Alyssa Healy</td>\n",
       "      <td>AUS</td>\n",
       "      <td>785</td>\n",
       "    </tr>\n",
       "    <tr>\n",
       "      <th>2</th>\n",
       "      <td>Beth Mooney</td>\n",
       "      <td>AUS</td>\n",
       "      <td>749</td>\n",
       "    </tr>\n",
       "    <tr>\n",
       "      <th>3</th>\n",
       "      <td>Natalie Sciver</td>\n",
       "      <td>ENG</td>\n",
       "      <td>740</td>\n",
       "    </tr>\n",
       "    <tr>\n",
       "      <th>4</th>\n",
       "      <td>Laura Wolvaardt</td>\n",
       "      <td>SA</td>\n",
       "      <td>732</td>\n",
       "    </tr>\n",
       "    <tr>\n",
       "      <th>5</th>\n",
       "      <td>Meg Lanning</td>\n",
       "      <td>AUS</td>\n",
       "      <td>710</td>\n",
       "    </tr>\n",
       "    <tr>\n",
       "      <th>6</th>\n",
       "      <td>Rachael Haynes</td>\n",
       "      <td>AUS</td>\n",
       "      <td>701</td>\n",
       "    </tr>\n",
       "    <tr>\n",
       "      <th>7</th>\n",
       "      <td>Smriti Mandhana</td>\n",
       "      <td>IND</td>\n",
       "      <td>698</td>\n",
       "    </tr>\n",
       "    <tr>\n",
       "      <th>8</th>\n",
       "      <td>Amy Satterthwaite</td>\n",
       "      <td>NZ</td>\n",
       "      <td>681</td>\n",
       "    </tr>\n",
       "    <tr>\n",
       "      <th>9</th>\n",
       "      <td>Harmanpreet Kaur</td>\n",
       "      <td>IND</td>\n",
       "      <td>662</td>\n",
       "    </tr>\n",
       "    <tr>\n",
       "      <th>10</th>\n",
       "      <td>Chamari Athapaththu</td>\n",
       "      <td>SL</td>\n",
       "      <td>655</td>\n",
       "    </tr>\n",
       "  </tbody>\n",
       "</table>\n",
       "</div>"
      ],
      "text/plain": [
       "                 Player Team RATING\n",
       "1          Alyssa Healy  AUS    785\n",
       "2           Beth Mooney  AUS    749\n",
       "3        Natalie Sciver  ENG    740\n",
       "4       Laura Wolvaardt   SA    732\n",
       "5           Meg Lanning  AUS    710\n",
       "6        Rachael Haynes  AUS    701\n",
       "7       Smriti Mandhana  IND    698\n",
       "8     Amy Satterthwaite   NZ    681\n",
       "9      Harmanpreet Kaur  IND    662\n",
       "10  Chamari Athapaththu   SL    655"
      ]
     },
     "execution_count": 87,
     "metadata": {},
     "output_type": "execute_result"
    }
   ],
   "source": [
    "data_batsman"
   ]
  },
  {
   "cell_type": "code",
   "execution_count": null,
   "id": "3bb7fc2e",
   "metadata": {},
   "outputs": [],
   "source": []
  },
  {
   "cell_type": "code",
   "execution_count": null,
   "id": "4a189e26",
   "metadata": {},
   "outputs": [],
   "source": []
  },
  {
   "cell_type": "markdown",
   "id": "b3a9cbb6",
   "metadata": {},
   "source": [
    "Write a python program to scrape mentioned news details from https://www.cnbc.com/world/?region=world :\n",
    "        \n",
    "i) Headline\n",
    "\n",
    "ii) Time\n",
    "\n",
    "iii) News Link"
   ]
  },
  {
   "cell_type": "code",
   "execution_count": 88,
   "id": "78d42d60",
   "metadata": {},
   "outputs": [],
   "source": [
    "from bs4 import BeautifulSoup\n",
    "import requests\n",
    "import numpy as np\n",
    "import pandas as pd"
   ]
  },
  {
   "cell_type": "code",
   "execution_count": 89,
   "id": "a0944aae",
   "metadata": {},
   "outputs": [],
   "source": [
    "url = \"https://www.cnbc.com/world/?region=world\""
   ]
  },
  {
   "cell_type": "code",
   "execution_count": 90,
   "id": "b2f87942",
   "metadata": {},
   "outputs": [],
   "source": [
    "r = requests.get(url)\n",
    "#r"
   ]
  },
  {
   "cell_type": "code",
   "execution_count": 91,
   "id": "29252e96",
   "metadata": {},
   "outputs": [],
   "source": [
    "soup = BeautifulSoup(r.content, \"html.parser\")\n",
    "# print(soup.prettify())"
   ]
  },
  {
   "cell_type": "code",
   "execution_count": 92,
   "id": "3ac26024",
   "metadata": {},
   "outputs": [],
   "source": [
    "container = soup.find_all(\"div\",class_=\"LatestNews-headlineWrapper\")"
   ]
  },
  {
   "cell_type": "code",
   "execution_count": 93,
   "id": "1f616058",
   "metadata": {},
   "outputs": [],
   "source": [
    "headlines = []\n",
    "times = []\n",
    "links = []\n",
    "for content in container:\n",
    "    head = content.a.text\n",
    "    headlines.append(head)\n",
    "    time = content.span.text\n",
    "    times.append(time)\n",
    "    link = content.a['href']\n",
    "    links.append(link)\n",
    "    #print(content.prettify())"
   ]
  },
  {
   "cell_type": "code",
   "execution_count": 94,
   "id": "de7fa176",
   "metadata": {},
   "outputs": [],
   "source": [
    "#links"
   ]
  },
  {
   "cell_type": "code",
   "execution_count": 95,
   "id": "8f51a06b",
   "metadata": {},
   "outputs": [],
   "source": [
    "df = pd.DataFrame()\n",
    "df[\"Headlines\"] = headlines\n",
    "df[\"Time\"] = times\n",
    "df[\"News Link\"] = links\n",
    "df = df[df[\"Headlines\"]!=\"\"]\n",
    "df = df.set_index(np.arange(1,len(df)+1))"
   ]
  },
  {
   "cell_type": "code",
   "execution_count": 96,
   "id": "73aa8c61",
   "metadata": {},
   "outputs": [],
   "source": [
    "# df = df[df[\"Headlines\"]!=\"\"]"
   ]
  },
  {
   "cell_type": "code",
   "execution_count": 97,
   "id": "98f64cf2",
   "metadata": {},
   "outputs": [
    {
     "data": {
      "text/html": [
       "<div>\n",
       "<style scoped>\n",
       "    .dataframe tbody tr th:only-of-type {\n",
       "        vertical-align: middle;\n",
       "    }\n",
       "\n",
       "    .dataframe tbody tr th {\n",
       "        vertical-align: top;\n",
       "    }\n",
       "\n",
       "    .dataframe thead th {\n",
       "        text-align: right;\n",
       "    }\n",
       "</style>\n",
       "<table border=\"1\" class=\"dataframe\">\n",
       "  <thead>\n",
       "    <tr style=\"text-align: right;\">\n",
       "      <th></th>\n",
       "      <th>Headlines</th>\n",
       "      <th>Time</th>\n",
       "      <th>News Link</th>\n",
       "    </tr>\n",
       "  </thead>\n",
       "  <tbody>\n",
       "    <tr>\n",
       "      <th>1</th>\n",
       "      <td>New minimum tax could hit Berkshire Hathaway a...</td>\n",
       "      <td>1 Hour Ago</td>\n",
       "      <td>https://www.cnbc.com/2022/09/25/new-minimum-ta...</td>\n",
       "    </tr>\n",
       "    <tr>\n",
       "      <th>2</th>\n",
       "      <td>Atlanta Fed President Bostic expects job losse...</td>\n",
       "      <td>2 Hours Ago</td>\n",
       "      <td>https://www.cnbc.com/2022/09/25/atlanta-fed-pr...</td>\n",
       "    </tr>\n",
       "    <tr>\n",
       "      <th>3</th>\n",
       "      <td>British Prime Minister to seek negotiated solu...</td>\n",
       "      <td>2 Hours Ago</td>\n",
       "      <td>https://www.cnbc.com/2022/09/25/british-prime-...</td>\n",
       "    </tr>\n",
       "    <tr>\n",
       "      <th>4</th>\n",
       "      <td>'The Woman King' shows why the box office need...</td>\n",
       "      <td>2 Hours Ago</td>\n",
       "      <td>https://www.cnbc.com/2022/09/25/the-woman-king...</td>\n",
       "    </tr>\n",
       "    <tr>\n",
       "      <th>5</th>\n",
       "      <td>Zelenskyy on Putin's threat of nuclear weapons...</td>\n",
       "      <td>3 Hours Ago</td>\n",
       "      <td>https://www.cnbc.com/2022/09/25/zelenskyy-on-p...</td>\n",
       "    </tr>\n",
       "    <tr>\n",
       "      <th>6</th>\n",
       "      <td>These are the top 10 best family-friendly U.S....</td>\n",
       "      <td>3 Hours Ago</td>\n",
       "      <td>https://www.cnbc.com/2022/09/25/opendoor-surve...</td>\n",
       "    </tr>\n",
       "    <tr>\n",
       "      <th>7</th>\n",
       "      <td>The 3 biggest signs of 'passive aggressive' an...</td>\n",
       "      <td>4 Hours Ago</td>\n",
       "      <td>https://www.cnbc.com/2022/09/25/the-3-biggest-...</td>\n",
       "    </tr>\n",
       "    <tr>\n",
       "      <th>8</th>\n",
       "      <td>What Kroger, Walmart, Target learned from Chin...</td>\n",
       "      <td>4 Hours Ago</td>\n",
       "      <td>https://www.cnbc.com/2022/09/25/what-kroger-wa...</td>\n",
       "    </tr>\n",
       "    <tr>\n",
       "      <th>9</th>\n",
       "      <td>How this 31-year-old got fired and re-hired at...</td>\n",
       "      <td>5 Hours Ago</td>\n",
       "      <td>https://www.cnbc.com/2022/09/25/this-millennia...</td>\n",
       "    </tr>\n",
       "    <tr>\n",
       "      <th>10</th>\n",
       "      <td>These are the 6 best business books of the year</td>\n",
       "      <td>5 Hours Ago</td>\n",
       "      <td>https://www.cnbc.com/2022/09/25/the-6-best-bus...</td>\n",
       "    </tr>\n",
       "  </tbody>\n",
       "</table>\n",
       "</div>"
      ],
      "text/plain": [
       "                                            Headlines         Time  \\\n",
       "1   New minimum tax could hit Berkshire Hathaway a...   1 Hour Ago   \n",
       "2   Atlanta Fed President Bostic expects job losse...  2 Hours Ago   \n",
       "3   British Prime Minister to seek negotiated solu...  2 Hours Ago   \n",
       "4   'The Woman King' shows why the box office need...  2 Hours Ago   \n",
       "5   Zelenskyy on Putin's threat of nuclear weapons...  3 Hours Ago   \n",
       "6   These are the top 10 best family-friendly U.S....  3 Hours Ago   \n",
       "7   The 3 biggest signs of 'passive aggressive' an...  4 Hours Ago   \n",
       "8   What Kroger, Walmart, Target learned from Chin...  4 Hours Ago   \n",
       "9   How this 31-year-old got fired and re-hired at...  5 Hours Ago   \n",
       "10    These are the 6 best business books of the year  5 Hours Ago   \n",
       "\n",
       "                                            News Link  \n",
       "1   https://www.cnbc.com/2022/09/25/new-minimum-ta...  \n",
       "2   https://www.cnbc.com/2022/09/25/atlanta-fed-pr...  \n",
       "3   https://www.cnbc.com/2022/09/25/british-prime-...  \n",
       "4   https://www.cnbc.com/2022/09/25/the-woman-king...  \n",
       "5   https://www.cnbc.com/2022/09/25/zelenskyy-on-p...  \n",
       "6   https://www.cnbc.com/2022/09/25/opendoor-surve...  \n",
       "7   https://www.cnbc.com/2022/09/25/the-3-biggest-...  \n",
       "8   https://www.cnbc.com/2022/09/25/what-kroger-wa...  \n",
       "9   https://www.cnbc.com/2022/09/25/this-millennia...  \n",
       "10  https://www.cnbc.com/2022/09/25/the-6-best-bus...  "
      ]
     },
     "execution_count": 97,
     "metadata": {},
     "output_type": "execute_result"
    }
   ],
   "source": [
    "# df\n",
    "df = df.head(10)\n",
    "df"
   ]
  },
  {
   "cell_type": "code",
   "execution_count": 98,
   "id": "08e6b203",
   "metadata": {},
   "outputs": [],
   "source": [
    "df.to_excel(\"News Data.xlsx\")"
   ]
  },
  {
   "cell_type": "markdown",
   "id": "c2bde59c",
   "metadata": {},
   "source": [
    "Write a python program to scrape the details of most downloaded articles from AI in last 90 days.\n",
    "\n",
    "https://www.journals.elsevier.com/artificial-intelligence/most-downloaded-articles\n",
    "    \n",
    "Scrape below mentioned details :\n",
    "    \n",
    "i) Paper Title\n",
    "\n",
    "ii) Authors\n",
    "\n",
    "iii) Published Date\n",
    "\n",
    "iv) Paper URL"
   ]
  },
  {
   "cell_type": "code",
   "execution_count": 99,
   "id": "9ad9f8e0",
   "metadata": {},
   "outputs": [],
   "source": [
    "from urllib.request import Request, urlopen"
   ]
  },
  {
   "cell_type": "code",
   "execution_count": 100,
   "id": "3f6c6f82",
   "metadata": {},
   "outputs": [],
   "source": [
    "link = \"https://www.journals.elsevier.com/artificial-intelligence/most-downloaded-articles\""
   ]
  },
  {
   "cell_type": "code",
   "execution_count": 101,
   "id": "85a8f747",
   "metadata": {},
   "outputs": [],
   "source": [
    "r = requests.get(link)"
   ]
  },
  {
   "cell_type": "code",
   "execution_count": 102,
   "id": "f4d16242",
   "metadata": {},
   "outputs": [],
   "source": [
    "soup_ai = BeautifulSoup(r.content,\"html.parser\")\n",
    "# print(soup_ai.prettify())"
   ]
  },
  {
   "cell_type": "code",
   "execution_count": 103,
   "id": "e7f5eed4",
   "metadata": {},
   "outputs": [],
   "source": [
    "downloads_ai = soup_ai.find_all(\"h2\", class_=\"sc-1qrq3sd-1 MKjKb sc-1nmom32-0 sc-1nmom32-1 hqhUYH ebTA-dR\")\n",
    "downloads_ai\n",
    "heads_ai=[]\n",
    "for i in downloads_ai:\n",
    "    i = i.text\n",
    "    heads_ai.append(i)\n",
    "#heads_ai"
   ]
  },
  {
   "cell_type": "code",
   "execution_count": 104,
   "id": "0fcb9c89",
   "metadata": {},
   "outputs": [],
   "source": [
    "link_ai=[]\n",
    "for i in downloads_ai:\n",
    "    i = i.parent['href']\n",
    "    link_ai.append(i)\n",
    "#link_ai"
   ]
  },
  {
   "cell_type": "code",
   "execution_count": 105,
   "id": "5f7b2407",
   "metadata": {},
   "outputs": [],
   "source": [
    "name_ai = soup_ai.find_all(\"span\", class_=\"sc-1w3fpd7-0 pgLAT\")\n",
    "name_ai\n",
    "authors = []\n",
    "for author in name_ai:\n",
    "    author= author.text\n",
    "    authors.append(author)\n",
    "#authors"
   ]
  },
  {
   "cell_type": "code",
   "execution_count": 106,
   "id": "13a56cdb",
   "metadata": {},
   "outputs": [],
   "source": [
    "date_ai = soup_ai.find_all(\"span\", class_=\"sc-1thf9ly-2 bKddwo\")\n",
    "date_ai\n",
    "release_date = []\n",
    "for date in date_ai:\n",
    "    date = date.text\n",
    "    release_date.append(date)\n",
    "#release_date"
   ]
  },
  {
   "cell_type": "code",
   "execution_count": 107,
   "id": "688d6960",
   "metadata": {},
   "outputs": [
    {
     "data": {
      "text/html": [
       "<div>\n",
       "<style scoped>\n",
       "    .dataframe tbody tr th:only-of-type {\n",
       "        vertical-align: middle;\n",
       "    }\n",
       "\n",
       "    .dataframe tbody tr th {\n",
       "        vertical-align: top;\n",
       "    }\n",
       "\n",
       "    .dataframe thead th {\n",
       "        text-align: right;\n",
       "    }\n",
       "</style>\n",
       "<table border=\"1\" class=\"dataframe\">\n",
       "  <thead>\n",
       "    <tr style=\"text-align: right;\">\n",
       "      <th></th>\n",
       "      <th>Paper Title</th>\n",
       "      <th>Authors</th>\n",
       "      <th>Published Date</th>\n",
       "      <th>Paper URL</th>\n",
       "    </tr>\n",
       "  </thead>\n",
       "  <tbody>\n",
       "    <tr>\n",
       "      <th>0</th>\n",
       "      <td>Reward is enough</td>\n",
       "      <td>Silver, David, Singh, Satinder, Precup, Doina,...</td>\n",
       "      <td>October 2021</td>\n",
       "      <td>https://www.sciencedirect.com/science/article/...</td>\n",
       "    </tr>\n",
       "    <tr>\n",
       "      <th>1</th>\n",
       "      <td>Making sense of raw input</td>\n",
       "      <td>Evans, Richard, Bošnjak, Matko and 5 more</td>\n",
       "      <td>October 2021</td>\n",
       "      <td>https://www.sciencedirect.com/science/article/...</td>\n",
       "    </tr>\n",
       "    <tr>\n",
       "      <th>2</th>\n",
       "      <td>Law and logic: A review from an argumentation ...</td>\n",
       "      <td>Prakken, Henry, Sartor, Giovanni</td>\n",
       "      <td>October 2015</td>\n",
       "      <td>https://www.sciencedirect.com/science/article/...</td>\n",
       "    </tr>\n",
       "    <tr>\n",
       "      <th>3</th>\n",
       "      <td>Creativity and artificial intelligence</td>\n",
       "      <td>Boden, Margaret A.</td>\n",
       "      <td>August 1998</td>\n",
       "      <td>https://www.sciencedirect.com/science/article/...</td>\n",
       "    </tr>\n",
       "    <tr>\n",
       "      <th>4</th>\n",
       "      <td>Artificial cognition for social human–robot in...</td>\n",
       "      <td>Lemaignan, Séverin, Warnier, Mathieu and 3 more</td>\n",
       "      <td>June 2017</td>\n",
       "      <td>https://www.sciencedirect.com/science/article/...</td>\n",
       "    </tr>\n",
       "    <tr>\n",
       "      <th>5</th>\n",
       "      <td>Explanation in artificial intelligence: Insigh...</td>\n",
       "      <td>Miller, Tim</td>\n",
       "      <td>February 2019</td>\n",
       "      <td>https://www.sciencedirect.com/science/article/...</td>\n",
       "    </tr>\n",
       "    <tr>\n",
       "      <th>6</th>\n",
       "      <td>Making sense of sensory input</td>\n",
       "      <td>Evans, Richard, Hernández-Orallo, José and 3 more</td>\n",
       "      <td>April 2021</td>\n",
       "      <td>https://www.sciencedirect.com/science/article/...</td>\n",
       "    </tr>\n",
       "    <tr>\n",
       "      <th>7</th>\n",
       "      <td>Conflict-based search for optimal multi-agent ...</td>\n",
       "      <td>Sharon, Guni, Stern, Roni, Felner, Ariel, Stur...</td>\n",
       "      <td>February 2015</td>\n",
       "      <td>https://www.sciencedirect.com/science/article/...</td>\n",
       "    </tr>\n",
       "    <tr>\n",
       "      <th>8</th>\n",
       "      <td>Between MDPs and semi-MDPs: A framework for te...</td>\n",
       "      <td>Sutton, Richard S., Precup, Doina, Singh, Sati...</td>\n",
       "      <td>August 1999</td>\n",
       "      <td>https://www.sciencedirect.com/science/article/...</td>\n",
       "    </tr>\n",
       "    <tr>\n",
       "      <th>9</th>\n",
       "      <td>The Hanabi challenge: A new frontier for AI re...</td>\n",
       "      <td>Bard, Nolan, Foerster, Jakob N. and 13 more</td>\n",
       "      <td>March 2020</td>\n",
       "      <td>https://www.sciencedirect.com/science/article/...</td>\n",
       "    </tr>\n",
       "    <tr>\n",
       "      <th>10</th>\n",
       "      <td>Evaluating XAI: A comparison of rule-based and...</td>\n",
       "      <td>van der Waa, Jasper, Nieuwburg, Elisabeth, Cre...</td>\n",
       "      <td>February 2021</td>\n",
       "      <td>https://www.sciencedirect.com/science/article/...</td>\n",
       "    </tr>\n",
       "    <tr>\n",
       "      <th>11</th>\n",
       "      <td>Argumentation in artificial intelligence</td>\n",
       "      <td>Bench-Capon, T.J.M., Dunne, Paul E.</td>\n",
       "      <td>October 2007</td>\n",
       "      <td>https://www.sciencedirect.com/science/article/...</td>\n",
       "    </tr>\n",
       "    <tr>\n",
       "      <th>12</th>\n",
       "      <td>Algorithms for computing strategies in two-pla...</td>\n",
       "      <td>Bošanský, Branislav, Lisý, Viliam and 3 more</td>\n",
       "      <td>August 2016</td>\n",
       "      <td>https://www.sciencedirect.com/science/article/...</td>\n",
       "    </tr>\n",
       "    <tr>\n",
       "      <th>13</th>\n",
       "      <td>Multiple object tracking: A literature review</td>\n",
       "      <td>Luo, Wenhan, Xing, Junliang and 4 more</td>\n",
       "      <td>April 2021</td>\n",
       "      <td>https://www.sciencedirect.com/science/article/...</td>\n",
       "    </tr>\n",
       "    <tr>\n",
       "      <th>14</th>\n",
       "      <td>Selection of relevant features and examples in...</td>\n",
       "      <td>Blum, Avrim L., Langley, Pat</td>\n",
       "      <td>December 1997</td>\n",
       "      <td>https://www.sciencedirect.com/science/article/...</td>\n",
       "    </tr>\n",
       "    <tr>\n",
       "      <th>15</th>\n",
       "      <td>A survey of inverse reinforcement learning: Ch...</td>\n",
       "      <td>Arora, Saurabh, Doshi, Prashant</td>\n",
       "      <td>August 2021</td>\n",
       "      <td>https://www.sciencedirect.com/science/article/...</td>\n",
       "    </tr>\n",
       "    <tr>\n",
       "      <th>16</th>\n",
       "      <td>Explaining individual predictions when feature...</td>\n",
       "      <td>Aas, Kjersti, Jullum, Martin, Løland, Anders</td>\n",
       "      <td>September 2021</td>\n",
       "      <td>https://www.sciencedirect.com/science/article/...</td>\n",
       "    </tr>\n",
       "    <tr>\n",
       "      <th>17</th>\n",
       "      <td>A review of possible effects of cognitive bias...</td>\n",
       "      <td>Kliegr, Tomáš, Bahník, Štěpán, Fürnkranz, Joha...</td>\n",
       "      <td>June 2021</td>\n",
       "      <td>https://www.sciencedirect.com/science/article/...</td>\n",
       "    </tr>\n",
       "    <tr>\n",
       "      <th>18</th>\n",
       "      <td>Integrating social power into the decision-mak...</td>\n",
       "      <td>Pereira, Gonçalo, Prada, Rui, Santos, Pedro A.</td>\n",
       "      <td>December 2016</td>\n",
       "      <td>https://www.sciencedirect.com/science/article/...</td>\n",
       "    </tr>\n",
       "    <tr>\n",
       "      <th>19</th>\n",
       "      <td>“That's (not) the output I expected!” On the r...</td>\n",
       "      <td>Riveiro, Maria, Thill, Serge</td>\n",
       "      <td>September 2021</td>\n",
       "      <td>https://www.sciencedirect.com/science/article/...</td>\n",
       "    </tr>\n",
       "    <tr>\n",
       "      <th>20</th>\n",
       "      <td>Explaining black-box classifiers using post-ho...</td>\n",
       "      <td>Kenny, Eoin M., Ford, Courtney, Quinn, Molly, ...</td>\n",
       "      <td>May 2021</td>\n",
       "      <td>https://www.sciencedirect.com/science/article/...</td>\n",
       "    </tr>\n",
       "    <tr>\n",
       "      <th>21</th>\n",
       "      <td>Algorithm runtime prediction: Methods &amp; evalua...</td>\n",
       "      <td>Hutter, Frank, Xu, Lin, Hoos, Holger H., Leyto...</td>\n",
       "      <td>January 2014</td>\n",
       "      <td>https://www.sciencedirect.com/science/article/...</td>\n",
       "    </tr>\n",
       "    <tr>\n",
       "      <th>22</th>\n",
       "      <td>Wrappers for feature subset selection</td>\n",
       "      <td>Kohavi, Ron, John, George H.</td>\n",
       "      <td>December 1997</td>\n",
       "      <td>https://www.sciencedirect.com/science/article/...</td>\n",
       "    </tr>\n",
       "    <tr>\n",
       "      <th>23</th>\n",
       "      <td>Commonsense visual sensemaking for autonomous ...</td>\n",
       "      <td>Suchan, Jakob, Bhatt, Mehul, Varadarajan, Srik...</td>\n",
       "      <td>October 2021</td>\n",
       "      <td>https://www.sciencedirect.com/science/article/...</td>\n",
       "    </tr>\n",
       "    <tr>\n",
       "      <th>24</th>\n",
       "      <td>Quantum computation, quantum theory and AI</td>\n",
       "      <td>Ying, Mingsheng</td>\n",
       "      <td>February 2010</td>\n",
       "      <td>https://www.sciencedirect.com/science/article/...</td>\n",
       "    </tr>\n",
       "  </tbody>\n",
       "</table>\n",
       "</div>"
      ],
      "text/plain": [
       "                                          Paper Title  \\\n",
       "0                                    Reward is enough   \n",
       "1                           Making sense of raw input   \n",
       "2   Law and logic: A review from an argumentation ...   \n",
       "3              Creativity and artificial intelligence   \n",
       "4   Artificial cognition for social human–robot in...   \n",
       "5   Explanation in artificial intelligence: Insigh...   \n",
       "6                       Making sense of sensory input   \n",
       "7   Conflict-based search for optimal multi-agent ...   \n",
       "8   Between MDPs and semi-MDPs: A framework for te...   \n",
       "9   The Hanabi challenge: A new frontier for AI re...   \n",
       "10  Evaluating XAI: A comparison of rule-based and...   \n",
       "11           Argumentation in artificial intelligence   \n",
       "12  Algorithms for computing strategies in two-pla...   \n",
       "13      Multiple object tracking: A literature review   \n",
       "14  Selection of relevant features and examples in...   \n",
       "15  A survey of inverse reinforcement learning: Ch...   \n",
       "16  Explaining individual predictions when feature...   \n",
       "17  A review of possible effects of cognitive bias...   \n",
       "18  Integrating social power into the decision-mak...   \n",
       "19  “That's (not) the output I expected!” On the r...   \n",
       "20  Explaining black-box classifiers using post-ho...   \n",
       "21  Algorithm runtime prediction: Methods & evalua...   \n",
       "22              Wrappers for feature subset selection   \n",
       "23  Commonsense visual sensemaking for autonomous ...   \n",
       "24         Quantum computation, quantum theory and AI   \n",
       "\n",
       "                                              Authors  Published Date  \\\n",
       "0   Silver, David, Singh, Satinder, Precup, Doina,...    October 2021   \n",
       "1           Evans, Richard, Bošnjak, Matko and 5 more    October 2021   \n",
       "2                   Prakken, Henry, Sartor, Giovanni     October 2015   \n",
       "3                                 Boden, Margaret A.      August 1998   \n",
       "4     Lemaignan, Séverin, Warnier, Mathieu and 3 more       June 2017   \n",
       "5                                        Miller, Tim    February 2019   \n",
       "6   Evans, Richard, Hernández-Orallo, José and 3 more      April 2021   \n",
       "7   Sharon, Guni, Stern, Roni, Felner, Ariel, Stur...   February 2015   \n",
       "8   Sutton, Richard S., Precup, Doina, Singh, Sati...     August 1999   \n",
       "9         Bard, Nolan, Foerster, Jakob N. and 13 more      March 2020   \n",
       "10  van der Waa, Jasper, Nieuwburg, Elisabeth, Cre...   February 2021   \n",
       "11               Bench-Capon, T.J.M., Dunne, Paul E.     October 2007   \n",
       "12       Bošanský, Branislav, Lisý, Viliam and 3 more     August 2016   \n",
       "13             Luo, Wenhan, Xing, Junliang and 4 more      April 2021   \n",
       "14                      Blum, Avrim L., Langley, Pat    December 1997   \n",
       "15                   Arora, Saurabh, Doshi, Prashant      August 2021   \n",
       "16      Aas, Kjersti, Jullum, Martin, Løland, Anders   September 2021   \n",
       "17  Kliegr, Tomáš, Bahník, Štěpán, Fürnkranz, Joha...       June 2021   \n",
       "18    Pereira, Gonçalo, Prada, Rui, Santos, Pedro A.    December 2016   \n",
       "19                      Riveiro, Maria, Thill, Serge   September 2021   \n",
       "20  Kenny, Eoin M., Ford, Courtney, Quinn, Molly, ...        May 2021   \n",
       "21  Hutter, Frank, Xu, Lin, Hoos, Holger H., Leyto...    January 2014   \n",
       "22                      Kohavi, Ron, John, George H.    December 1997   \n",
       "23  Suchan, Jakob, Bhatt, Mehul, Varadarajan, Srik...    October 2021   \n",
       "24                                   Ying, Mingsheng    February 2010   \n",
       "\n",
       "                                            Paper URL  \n",
       "0   https://www.sciencedirect.com/science/article/...  \n",
       "1   https://www.sciencedirect.com/science/article/...  \n",
       "2   https://www.sciencedirect.com/science/article/...  \n",
       "3   https://www.sciencedirect.com/science/article/...  \n",
       "4   https://www.sciencedirect.com/science/article/...  \n",
       "5   https://www.sciencedirect.com/science/article/...  \n",
       "6   https://www.sciencedirect.com/science/article/...  \n",
       "7   https://www.sciencedirect.com/science/article/...  \n",
       "8   https://www.sciencedirect.com/science/article/...  \n",
       "9   https://www.sciencedirect.com/science/article/...  \n",
       "10  https://www.sciencedirect.com/science/article/...  \n",
       "11  https://www.sciencedirect.com/science/article/...  \n",
       "12  https://www.sciencedirect.com/science/article/...  \n",
       "13  https://www.sciencedirect.com/science/article/...  \n",
       "14  https://www.sciencedirect.com/science/article/...  \n",
       "15  https://www.sciencedirect.com/science/article/...  \n",
       "16  https://www.sciencedirect.com/science/article/...  \n",
       "17  https://www.sciencedirect.com/science/article/...  \n",
       "18  https://www.sciencedirect.com/science/article/...  \n",
       "19  https://www.sciencedirect.com/science/article/...  \n",
       "20  https://www.sciencedirect.com/science/article/...  \n",
       "21  https://www.sciencedirect.com/science/article/...  \n",
       "22  https://www.sciencedirect.com/science/article/...  \n",
       "23  https://www.sciencedirect.com/science/article/...  \n",
       "24  https://www.sciencedirect.com/science/article/...  "
      ]
     },
     "execution_count": 107,
     "metadata": {},
     "output_type": "execute_result"
    }
   ],
   "source": [
    "df= pd.DataFrame()\n",
    "df['Paper Title'] = heads_ai\n",
    "df['Authors'] = authors\n",
    "df['Published Date'] = release_date\n",
    "df['Paper URL'] = link_ai\n",
    "df"
   ]
  },
  {
   "cell_type": "code",
   "execution_count": 108,
   "id": "d6e30e91",
   "metadata": {},
   "outputs": [],
   "source": [
    "df.to_excel(\"downloaded articles from AI in last 90 days.xlsx\")"
   ]
  },
  {
   "cell_type": "code",
   "execution_count": null,
   "id": "958de294",
   "metadata": {},
   "outputs": [],
   "source": []
  },
  {
   "cell_type": "markdown",
   "id": "03a8f763",
   "metadata": {},
   "source": [
    "Write a python program to scrape mentioned details from dineout.co.in :\n",
    "    \n",
    "i) Restaurant name\n",
    "\n",
    "ii) Cuisine\n",
    "\n",
    "iii) Location\n",
    "\n",
    "iv) Ratings\n",
    "\n",
    "v) Image URL"
   ]
  },
  {
   "cell_type": "code",
   "execution_count": 109,
   "id": "ceee8a80",
   "metadata": {},
   "outputs": [],
   "source": [
    "from bs4 import BeautifulSoup\n",
    "import requests\n",
    "import numpy as np\n",
    "import pandas as pd"
   ]
  },
  {
   "cell_type": "code",
   "execution_count": 110,
   "id": "2dd22d27",
   "metadata": {},
   "outputs": [],
   "source": [
    "url = \"https://www.dineout.co.in/pune-restaurants/welcome-back\""
   ]
  },
  {
   "cell_type": "code",
   "execution_count": 111,
   "id": "37ba4c99",
   "metadata": {},
   "outputs": [],
   "source": [
    "data = requests.get(url)\n",
    "#data"
   ]
  },
  {
   "cell_type": "code",
   "execution_count": 112,
   "id": "b95d4107",
   "metadata": {},
   "outputs": [],
   "source": [
    "soup = BeautifulSoup(data.content,\"html.parser\")\n",
    "#print(soup.prettify())"
   ]
  },
  {
   "cell_type": "code",
   "execution_count": 113,
   "id": "99ee31ba",
   "metadata": {},
   "outputs": [
    {
     "data": {
      "text/plain": [
       "21"
      ]
     },
     "execution_count": 113,
     "metadata": {},
     "output_type": "execute_result"
    }
   ],
   "source": [
    "restaurant_name = soup.find_all(\"a\", class_=\"restnt-name ellipsis\")\n",
    "restaurant_name\n",
    "restaurants = []\n",
    "for restaurant in restaurant_name:\n",
    "    restaurant = restaurant.text\n",
    "    restaurants.append(restaurant)\n",
    "#restaurants\n",
    "len(restaurants)"
   ]
  },
  {
   "cell_type": "code",
   "execution_count": 114,
   "id": "a2d0cb6c",
   "metadata": {},
   "outputs": [],
   "source": [
    "cuisine_hotels = soup.find_all(\"span\", class_=\"double-line-ellipsis\")\n",
    "#cuisine_hotels"
   ]
  },
  {
   "cell_type": "code",
   "execution_count": 115,
   "id": "919b2034",
   "metadata": {},
   "outputs": [
    {
     "data": {
      "text/plain": [
       "21"
      ]
     },
     "execution_count": 115,
     "metadata": {},
     "output_type": "execute_result"
    }
   ],
   "source": [
    "cuisines = []\n",
    "for cuisine in cuisine_hotels:\n",
    "    cuisine = cuisine.text.split(\"|\")[1]\n",
    "    cuisines.append(cuisine)\n",
    "#cuisines\n",
    "len(cuisines)"
   ]
  },
  {
   "cell_type": "code",
   "execution_count": 116,
   "id": "f6f480cc",
   "metadata": {},
   "outputs": [
    {
     "data": {
      "text/plain": [
       "21"
      ]
     },
     "execution_count": 116,
     "metadata": {},
     "output_type": "execute_result"
    }
   ],
   "source": [
    "location_hotels = soup.find_all(\"div\", class_=\"restnt-loc ellipsis\")\n",
    "location_hotels\n",
    "locations = []\n",
    "for location in location_hotels:\n",
    "    location = location.text\n",
    "    locations.append(location)\n",
    "#locations\n",
    "len(locations)"
   ]
  },
  {
   "cell_type": "code",
   "execution_count": 117,
   "id": "ba342a00",
   "metadata": {},
   "outputs": [],
   "source": [
    "rating_hotels = soup.find_all(\"img\", class_=\"no-img\")\n",
    "rating_hotels\n",
    "ratings = []\n",
    "for rating in rating_hotels:\n",
    "    rating = rating.parent.next_sibling.text\n",
    "    ratings.append(rating)\n",
    "#ratings\n",
    "# len(ratings)"
   ]
  },
  {
   "cell_type": "code",
   "execution_count": 118,
   "id": "9a9b9566",
   "metadata": {},
   "outputs": [],
   "source": [
    "image_url = soup.find_all(\"img\", class_=\"no-img\")\n",
    "image_url\n",
    "images = []\n",
    "for image in image_url:\n",
    "    image = image[\"data-src\"]\n",
    "    images.append(image)\n",
    "#images\n",
    "# len(images)"
   ]
  },
  {
   "cell_type": "code",
   "execution_count": 119,
   "id": "ee203e54",
   "metadata": {},
   "outputs": [
    {
     "data": {
      "text/html": [
       "<div>\n",
       "<style scoped>\n",
       "    .dataframe tbody tr th:only-of-type {\n",
       "        vertical-align: middle;\n",
       "    }\n",
       "\n",
       "    .dataframe tbody tr th {\n",
       "        vertical-align: top;\n",
       "    }\n",
       "\n",
       "    .dataframe thead th {\n",
       "        text-align: right;\n",
       "    }\n",
       "</style>\n",
       "<table border=\"1\" class=\"dataframe\">\n",
       "  <thead>\n",
       "    <tr style=\"text-align: right;\">\n",
       "      <th></th>\n",
       "      <th>Restaurant name</th>\n",
       "      <th>Cuisine</th>\n",
       "      <th>Location</th>\n",
       "      <th>Ratings</th>\n",
       "      <th>Image URL</th>\n",
       "    </tr>\n",
       "  </thead>\n",
       "  <tbody>\n",
       "    <tr>\n",
       "      <th>1</th>\n",
       "      <td>Agent Jack's Bar</td>\n",
       "      <td>North Indian, Chinese, Continental</td>\n",
       "      <td>ICC Trade Tower,Senapati Bapat Road, West Pune</td>\n",
       "      <td>4</td>\n",
       "      <td>https://im1.dineout.co.in/images/uploads/resta...</td>\n",
       "    </tr>\n",
       "    <tr>\n",
       "      <th>2</th>\n",
       "      <td>SKYE at Eternia RoofTop</td>\n",
       "      <td>North Indian, Italian, Chinese, Continental</td>\n",
       "      <td>ICC Trade Tower,Senapati Bapat Road, West Pune</td>\n",
       "      <td>4</td>\n",
       "      <td>https://im1.dineout.co.in/images/uploads/resta...</td>\n",
       "    </tr>\n",
       "    <tr>\n",
       "      <th>3</th>\n",
       "      <td>Spice Factory</td>\n",
       "      <td>Finger Food, North Indian, Continental, Italian</td>\n",
       "      <td>White Square Building,Hinjewadi, West Pune</td>\n",
       "      <td>3.9</td>\n",
       "      <td>https://im1.dineout.co.in/images/uploads/resta...</td>\n",
       "    </tr>\n",
       "    <tr>\n",
       "      <th>4</th>\n",
       "      <td>TTF - The Tenth Floor</td>\n",
       "      <td>North Indian, Continental, Asian, Fast Food</td>\n",
       "      <td>Deron Heights,Baner, West Pune</td>\n",
       "      <td>3.8</td>\n",
       "      <td>https://im1.dineout.co.in/images/uploads/resta...</td>\n",
       "    </tr>\n",
       "    <tr>\n",
       "      <th>5</th>\n",
       "      <td>Dhaba Estd 1986 Delhi Pune</td>\n",
       "      <td>North Indian</td>\n",
       "      <td>The Pavillion Mall,Shivaji Nagar, West Pune</td>\n",
       "      <td>4.3</td>\n",
       "      <td>https://im1.dineout.co.in/images/uploads/resta...</td>\n",
       "    </tr>\n",
       "    <tr>\n",
       "      <th>6</th>\n",
       "      <td>Mainland China</td>\n",
       "      <td>Chinese, Tibetan, Asian, Thai</td>\n",
       "      <td>Pyramid Mall,Senapati Bapat Road, West Pune</td>\n",
       "      <td>4.4</td>\n",
       "      <td>https://im1.dineout.co.in/images/uploads/resta...</td>\n",
       "    </tr>\n",
       "    <tr>\n",
       "      <th>7</th>\n",
       "      <td>FC Road Social</td>\n",
       "      <td>Chinese, North Indian, Italian, Fast Food</td>\n",
       "      <td>F.C. Road, West Pune</td>\n",
       "      <td>4.2</td>\n",
       "      <td>https://im1.dineout.co.in/images/uploads/resta...</td>\n",
       "    </tr>\n",
       "    <tr>\n",
       "      <th>8</th>\n",
       "      <td>TGI Friday's</td>\n",
       "      <td>American, Mexican, Italian</td>\n",
       "      <td>The Pavillion Mall,Shivaji Nagar, West Pune</td>\n",
       "      <td>4.2</td>\n",
       "      <td>https://im1.dineout.co.in/images/uploads/resta...</td>\n",
       "    </tr>\n",
       "    <tr>\n",
       "      <th>9</th>\n",
       "      <td>Thikana</td>\n",
       "      <td>North Indian, Chinese, Italian</td>\n",
       "      <td>F.C. Road, West Pune</td>\n",
       "      <td>4</td>\n",
       "      <td>https://im1.dineout.co.in/images/uploads/resta...</td>\n",
       "    </tr>\n",
       "    <tr>\n",
       "      <th>10</th>\n",
       "      <td>The Poppa Cafe</td>\n",
       "      <td>Fast Food, Italian, Finger Food</td>\n",
       "      <td>Senapati Bapat Road, West Pune</td>\n",
       "      <td>4</td>\n",
       "      <td>https://im1.dineout.co.in/images/uploads/resta...</td>\n",
       "    </tr>\n",
       "    <tr>\n",
       "      <th>11</th>\n",
       "      <td>Cafe Delhi Heights</td>\n",
       "      <td>Continental, North Indian, Beverages, Chinese...</td>\n",
       "      <td>The Pavillion Mall,Shivaji Nagar, West Pune</td>\n",
       "      <td>4.4</td>\n",
       "      <td>https://im1.dineout.co.in/images/uploads/resta...</td>\n",
       "    </tr>\n",
       "    <tr>\n",
       "      <th>12</th>\n",
       "      <td>Mad Over Donuts</td>\n",
       "      <td>Desserts</td>\n",
       "      <td>The Pavillion Mall,Shivaji Nagar, West Pune</td>\n",
       "      <td>4.4</td>\n",
       "      <td>https://im1.dineout.co.in/images/uploads/resta...</td>\n",
       "    </tr>\n",
       "    <tr>\n",
       "      <th>13</th>\n",
       "      <td>Casablanca</td>\n",
       "      <td>North Indian, Asian, Continental</td>\n",
       "      <td>The Pride Hotel,Shivaji Nagar, West Pune</td>\n",
       "      <td>4.1</td>\n",
       "      <td>https://im1.dineout.co.in/images/uploads/resta...</td>\n",
       "    </tr>\n",
       "    <tr>\n",
       "      <th>14</th>\n",
       "      <td>South And More</td>\n",
       "      <td>South Indian, Street Food</td>\n",
       "      <td>Model Colony, West Pune</td>\n",
       "      <td>4.3</td>\n",
       "      <td>https://im1.dineout.co.in/images/uploads/resta...</td>\n",
       "    </tr>\n",
       "    <tr>\n",
       "      <th>15</th>\n",
       "      <td>Aroma</td>\n",
       "      <td>North Indian, Chinese, Beverages</td>\n",
       "      <td>The Ambience Hotel,Model Colony, West Pune</td>\n",
       "      <td>4.2</td>\n",
       "      <td>https://im1.dineout.co.in/images/uploads/resta...</td>\n",
       "    </tr>\n",
       "    <tr>\n",
       "      <th>16</th>\n",
       "      <td>Spice Kitchen</td>\n",
       "      <td>Chinese, Continental, North Indian, Italian, ...</td>\n",
       "      <td>JW Marriott Hotel,Senapati Bapat Road, West Pune</td>\n",
       "      <td>4.4</td>\n",
       "      <td>https://im1.dineout.co.in/images/uploads/resta...</td>\n",
       "    </tr>\n",
       "    <tr>\n",
       "      <th>17</th>\n",
       "      <td>Paasha</td>\n",
       "      <td>North Indian, Mughlai</td>\n",
       "      <td>JW Marriott Hotel,Senapati Bapat Road, West Pune</td>\n",
       "      <td>4.5</td>\n",
       "      <td>https://im1.dineout.co.in/images/uploads/resta...</td>\n",
       "    </tr>\n",
       "    <tr>\n",
       "      <th>18</th>\n",
       "      <td>Pune Baking Company</td>\n",
       "      <td>Desserts, Beverages, American</td>\n",
       "      <td>JW Marriott Hotel,Senapati Bapat Road, West Pune</td>\n",
       "      <td>4.3</td>\n",
       "      <td>https://im1.dineout.co.in/images/uploads/resta...</td>\n",
       "    </tr>\n",
       "    <tr>\n",
       "      <th>19</th>\n",
       "      <td>Exotica</td>\n",
       "      <td>North Indian, Chinese</td>\n",
       "      <td>Yerwada, East Pune</td>\n",
       "      <td>4.3</td>\n",
       "      <td>https://im1.dineout.co.in/images/uploads/resta...</td>\n",
       "    </tr>\n",
       "    <tr>\n",
       "      <th>20</th>\n",
       "      <td>Barbeque Nation</td>\n",
       "      <td>North Indian, Chinese</td>\n",
       "      <td>R Deccan Mall,Deccan Gymkhana, West Pune</td>\n",
       "      <td>4.4</td>\n",
       "      <td>https://im1.dineout.co.in/images/uploads/resta...</td>\n",
       "    </tr>\n",
       "    <tr>\n",
       "      <th>21</th>\n",
       "      <td>Alto-Vino</td>\n",
       "      <td>Italian, Continental</td>\n",
       "      <td>JW Marriott Hotel,Senapati Bapat Road, West Pune</td>\n",
       "      <td>4.3</td>\n",
       "      <td>https://im1.dineout.co.in/images/uploads/resta...</td>\n",
       "    </tr>\n",
       "  </tbody>\n",
       "</table>\n",
       "</div>"
      ],
      "text/plain": [
       "               Restaurant name  \\\n",
       "1             Agent Jack's Bar   \n",
       "2      SKYE at Eternia RoofTop   \n",
       "3                Spice Factory   \n",
       "4        TTF - The Tenth Floor   \n",
       "5   Dhaba Estd 1986 Delhi Pune   \n",
       "6               Mainland China   \n",
       "7               FC Road Social   \n",
       "8                 TGI Friday's   \n",
       "9                      Thikana   \n",
       "10              The Poppa Cafe   \n",
       "11          Cafe Delhi Heights   \n",
       "12             Mad Over Donuts   \n",
       "13                  Casablanca   \n",
       "14              South And More   \n",
       "15                       Aroma   \n",
       "16               Spice Kitchen   \n",
       "17                      Paasha   \n",
       "18         Pune Baking Company   \n",
       "19                     Exotica   \n",
       "20             Barbeque Nation   \n",
       "21                   Alto-Vino   \n",
       "\n",
       "                                              Cuisine  \\\n",
       "1                  North Indian, Chinese, Continental   \n",
       "2         North Indian, Italian, Chinese, Continental   \n",
       "3     Finger Food, North Indian, Continental, Italian   \n",
       "4         North Indian, Continental, Asian, Fast Food   \n",
       "5                                        North Indian   \n",
       "6                       Chinese, Tibetan, Asian, Thai   \n",
       "7           Chinese, North Indian, Italian, Fast Food   \n",
       "8                          American, Mexican, Italian   \n",
       "9                      North Indian, Chinese, Italian   \n",
       "10                    Fast Food, Italian, Finger Food   \n",
       "11   Continental, North Indian, Beverages, Chinese...   \n",
       "12                                           Desserts   \n",
       "13                   North Indian, Asian, Continental   \n",
       "14                          South Indian, Street Food   \n",
       "15                   North Indian, Chinese, Beverages   \n",
       "16   Chinese, Continental, North Indian, Italian, ...   \n",
       "17                              North Indian, Mughlai   \n",
       "18                      Desserts, Beverages, American   \n",
       "19                              North Indian, Chinese   \n",
       "20                              North Indian, Chinese   \n",
       "21                               Italian, Continental   \n",
       "\n",
       "                                            Location Ratings  \\\n",
       "1     ICC Trade Tower,Senapati Bapat Road, West Pune       4   \n",
       "2     ICC Trade Tower,Senapati Bapat Road, West Pune       4   \n",
       "3         White Square Building,Hinjewadi, West Pune     3.9   \n",
       "4                     Deron Heights,Baner, West Pune     3.8   \n",
       "5        The Pavillion Mall,Shivaji Nagar, West Pune     4.3   \n",
       "6        Pyramid Mall,Senapati Bapat Road, West Pune     4.4   \n",
       "7                               F.C. Road, West Pune     4.2   \n",
       "8        The Pavillion Mall,Shivaji Nagar, West Pune     4.2   \n",
       "9                               F.C. Road, West Pune       4   \n",
       "10                    Senapati Bapat Road, West Pune       4   \n",
       "11       The Pavillion Mall,Shivaji Nagar, West Pune     4.4   \n",
       "12       The Pavillion Mall,Shivaji Nagar, West Pune     4.4   \n",
       "13          The Pride Hotel,Shivaji Nagar, West Pune     4.1   \n",
       "14                           Model Colony, West Pune     4.3   \n",
       "15        The Ambience Hotel,Model Colony, West Pune     4.2   \n",
       "16  JW Marriott Hotel,Senapati Bapat Road, West Pune     4.4   \n",
       "17  JW Marriott Hotel,Senapati Bapat Road, West Pune     4.5   \n",
       "18  JW Marriott Hotel,Senapati Bapat Road, West Pune     4.3   \n",
       "19                                Yerwada, East Pune     4.3   \n",
       "20          R Deccan Mall,Deccan Gymkhana, West Pune     4.4   \n",
       "21  JW Marriott Hotel,Senapati Bapat Road, West Pune     4.3   \n",
       "\n",
       "                                            Image URL  \n",
       "1   https://im1.dineout.co.in/images/uploads/resta...  \n",
       "2   https://im1.dineout.co.in/images/uploads/resta...  \n",
       "3   https://im1.dineout.co.in/images/uploads/resta...  \n",
       "4   https://im1.dineout.co.in/images/uploads/resta...  \n",
       "5   https://im1.dineout.co.in/images/uploads/resta...  \n",
       "6   https://im1.dineout.co.in/images/uploads/resta...  \n",
       "7   https://im1.dineout.co.in/images/uploads/resta...  \n",
       "8   https://im1.dineout.co.in/images/uploads/resta...  \n",
       "9   https://im1.dineout.co.in/images/uploads/resta...  \n",
       "10  https://im1.dineout.co.in/images/uploads/resta...  \n",
       "11  https://im1.dineout.co.in/images/uploads/resta...  \n",
       "12  https://im1.dineout.co.in/images/uploads/resta...  \n",
       "13  https://im1.dineout.co.in/images/uploads/resta...  \n",
       "14  https://im1.dineout.co.in/images/uploads/resta...  \n",
       "15  https://im1.dineout.co.in/images/uploads/resta...  \n",
       "16  https://im1.dineout.co.in/images/uploads/resta...  \n",
       "17  https://im1.dineout.co.in/images/uploads/resta...  \n",
       "18  https://im1.dineout.co.in/images/uploads/resta...  \n",
       "19  https://im1.dineout.co.in/images/uploads/resta...  \n",
       "20  https://im1.dineout.co.in/images/uploads/resta...  \n",
       "21  https://im1.dineout.co.in/images/uploads/resta...  "
      ]
     },
     "execution_count": 119,
     "metadata": {},
     "output_type": "execute_result"
    }
   ],
   "source": [
    "df = pd.DataFrame()\n",
    "df['Restaurant name'] = restaurants\n",
    "df['Cuisine'] = cuisines\n",
    "df['Location'] = locations\n",
    "df['Ratings'] = ratings\n",
    "df['Image URL'] = images\n",
    "df = df.set_index(np.arange(1,len(df)+1))\n",
    "df"
   ]
  },
  {
   "cell_type": "code",
   "execution_count": 120,
   "id": "314d3f2a",
   "metadata": {},
   "outputs": [],
   "source": [
    "df.to_excel(\"details from dineout.xlsx\")"
   ]
  },
  {
   "cell_type": "code",
   "execution_count": null,
   "id": "7e1987d1",
   "metadata": {},
   "outputs": [],
   "source": []
  },
  {
   "cell_type": "markdown",
   "id": "9b488c81",
   "metadata": {},
   "source": [
    "Write a python program to scrape the details of top publications from Google Scholar from\n",
    "https://scholar.google.com/citations?view_op=top_venues&hl=en\n",
    "    \n",
    "i) Rank\n",
    "\n",
    "ii) Publication\n",
    "\n",
    "iii) h5-index\n",
    "\n",
    "iv) h5-median"
   ]
  },
  {
   "cell_type": "code",
   "execution_count": 121,
   "id": "0afcc7ec",
   "metadata": {},
   "outputs": [],
   "source": [
    "from bs4 import BeautifulSoup\n",
    "import requests\n",
    "import numpy as np\n",
    "import pandas as pd"
   ]
  },
  {
   "cell_type": "code",
   "execution_count": 122,
   "id": "34ababcb",
   "metadata": {},
   "outputs": [],
   "source": [
    "url_pub = \"https://scholar.google.com/citations?view_op=top_venues&hl=en\""
   ]
  },
  {
   "cell_type": "code",
   "execution_count": 123,
   "id": "dca5893b",
   "metadata": {},
   "outputs": [],
   "source": [
    "page = requests.get(url_pub)\n",
    "#page"
   ]
  },
  {
   "cell_type": "code",
   "execution_count": 124,
   "id": "e00e40ef",
   "metadata": {},
   "outputs": [],
   "source": [
    "soup_pub = BeautifulSoup(page.content,\"html.parser\")\n",
    "#print(soup.prettify())"
   ]
  },
  {
   "cell_type": "code",
   "execution_count": 125,
   "id": "b0939d2c",
   "metadata": {},
   "outputs": [],
   "source": [
    "ranking = soup_pub.find_all(\"td\", class_=\"gsc_mvt_p\")\n",
    "ranking\n",
    "ranks=[]\n",
    "for rank in ranking:\n",
    "    rank = rank.text\n",
    "    ranks.append(rank)\n",
    "#ranks"
   ]
  },
  {
   "cell_type": "code",
   "execution_count": 126,
   "id": "ea16972d",
   "metadata": {},
   "outputs": [],
   "source": [
    "publications = soup_pub.find_all(\"td\", class_=\"gsc_mvt_t\")\n",
    "publications\n",
    "publication = []\n",
    "for pub in publications:\n",
    "    pub = pub.text\n",
    "    publication.append(pub)\n",
    "#publication"
   ]
  },
  {
   "cell_type": "code",
   "execution_count": 127,
   "id": "bf65ca4f",
   "metadata": {},
   "outputs": [],
   "source": [
    "h5_index = soup_pub.find_all(\"a\", class_=\"gs_ibl gsc_mp_anchor\")\n",
    "h5_index\n",
    "h5 = []\n",
    "for h in h5_index:\n",
    "    h = h.text\n",
    "    h5.append(h)\n",
    "#h5"
   ]
  },
  {
   "cell_type": "code",
   "execution_count": 128,
   "id": "3dcedc6b",
   "metadata": {},
   "outputs": [],
   "source": [
    "h5_median = soup_pub.find_all(\"span\", class_=\"gs_ibl gsc_mp_anchor\")\n",
    "h5_median\n",
    "median = []\n",
    "for m in h5_median:\n",
    "    m = m.text\n",
    "    median.append(m)\n",
    "#median"
   ]
  },
  {
   "cell_type": "code",
   "execution_count": 129,
   "id": "9ebcc2de",
   "metadata": {},
   "outputs": [
    {
     "data": {
      "text/html": [
       "<div>\n",
       "<style scoped>\n",
       "    .dataframe tbody tr th:only-of-type {\n",
       "        vertical-align: middle;\n",
       "    }\n",
       "\n",
       "    .dataframe tbody tr th {\n",
       "        vertical-align: top;\n",
       "    }\n",
       "\n",
       "    .dataframe thead th {\n",
       "        text-align: right;\n",
       "    }\n",
       "</style>\n",
       "<table border=\"1\" class=\"dataframe\">\n",
       "  <thead>\n",
       "    <tr style=\"text-align: right;\">\n",
       "      <th></th>\n",
       "      <th>Rank</th>\n",
       "      <th>Publication</th>\n",
       "      <th>h5-index</th>\n",
       "      <th>h5-median</th>\n",
       "    </tr>\n",
       "  </thead>\n",
       "  <tbody>\n",
       "    <tr>\n",
       "      <th>0</th>\n",
       "      <td>1.</td>\n",
       "      <td>Nature</td>\n",
       "      <td>444</td>\n",
       "      <td>667</td>\n",
       "    </tr>\n",
       "    <tr>\n",
       "      <th>1</th>\n",
       "      <td>2.</td>\n",
       "      <td>The New England Journal of Medicine</td>\n",
       "      <td>432</td>\n",
       "      <td>780</td>\n",
       "    </tr>\n",
       "    <tr>\n",
       "      <th>2</th>\n",
       "      <td>3.</td>\n",
       "      <td>Science</td>\n",
       "      <td>401</td>\n",
       "      <td>614</td>\n",
       "    </tr>\n",
       "    <tr>\n",
       "      <th>3</th>\n",
       "      <td>4.</td>\n",
       "      <td>IEEE/CVF Conference on Computer Vision and Pat...</td>\n",
       "      <td>389</td>\n",
       "      <td>627</td>\n",
       "    </tr>\n",
       "    <tr>\n",
       "      <th>4</th>\n",
       "      <td>5.</td>\n",
       "      <td>The Lancet</td>\n",
       "      <td>354</td>\n",
       "      <td>635</td>\n",
       "    </tr>\n",
       "    <tr>\n",
       "      <th>...</th>\n",
       "      <td>...</td>\n",
       "      <td>...</td>\n",
       "      <td>...</td>\n",
       "      <td>...</td>\n",
       "    </tr>\n",
       "    <tr>\n",
       "      <th>95</th>\n",
       "      <td>96.</td>\n",
       "      <td>Journal of Business Research</td>\n",
       "      <td>145</td>\n",
       "      <td>233</td>\n",
       "    </tr>\n",
       "    <tr>\n",
       "      <th>96</th>\n",
       "      <td>97.</td>\n",
       "      <td>Molecular Cancer</td>\n",
       "      <td>145</td>\n",
       "      <td>209</td>\n",
       "    </tr>\n",
       "    <tr>\n",
       "      <th>97</th>\n",
       "      <td>98.</td>\n",
       "      <td>Sensors</td>\n",
       "      <td>145</td>\n",
       "      <td>201</td>\n",
       "    </tr>\n",
       "    <tr>\n",
       "      <th>98</th>\n",
       "      <td>99.</td>\n",
       "      <td>Nature Climate Change</td>\n",
       "      <td>144</td>\n",
       "      <td>228</td>\n",
       "    </tr>\n",
       "    <tr>\n",
       "      <th>99</th>\n",
       "      <td>100.</td>\n",
       "      <td>IEEE Internet of Things Journal</td>\n",
       "      <td>144</td>\n",
       "      <td>212</td>\n",
       "    </tr>\n",
       "  </tbody>\n",
       "</table>\n",
       "<p>100 rows × 4 columns</p>\n",
       "</div>"
      ],
      "text/plain": [
       "    Rank                                        Publication h5-index h5-median\n",
       "0     1.                                             Nature      444       667\n",
       "1     2.                The New England Journal of Medicine      432       780\n",
       "2     3.                                            Science      401       614\n",
       "3     4.  IEEE/CVF Conference on Computer Vision and Pat...      389       627\n",
       "4     5.                                         The Lancet      354       635\n",
       "..   ...                                                ...      ...       ...\n",
       "95   96.                       Journal of Business Research      145       233\n",
       "96   97.                                   Molecular Cancer      145       209\n",
       "97   98.                                            Sensors      145       201\n",
       "98   99.                              Nature Climate Change      144       228\n",
       "99  100.                    IEEE Internet of Things Journal      144       212\n",
       "\n",
       "[100 rows x 4 columns]"
      ]
     },
     "execution_count": 129,
     "metadata": {},
     "output_type": "execute_result"
    }
   ],
   "source": [
    "df = pd.DataFrame()\n",
    "df[\"Rank\"] = ranks\n",
    "df[\"Publication\"] = publication\n",
    "df[\"h5-index\"] = h5\n",
    "df[\"h5-median\"] = median\n",
    "df"
   ]
  },
  {
   "cell_type": "code",
   "execution_count": 130,
   "id": "db397ff3",
   "metadata": {},
   "outputs": [],
   "source": [
    "df.to_excel(\"top publications from Google Scholar.xlsx\")"
   ]
  },
  {
   "cell_type": "code",
   "execution_count": null,
   "id": "59379ebf",
   "metadata": {},
   "outputs": [],
   "source": []
  }
 ],
 "metadata": {
  "kernelspec": {
   "display_name": "Python 3 (ipykernel)",
   "language": "python",
   "name": "python3"
  },
  "language_info": {
   "codemirror_mode": {
    "name": "ipython",
    "version": 3
   },
   "file_extension": ".py",
   "mimetype": "text/x-python",
   "name": "python",
   "nbconvert_exporter": "python",
   "pygments_lexer": "ipython3",
   "version": "3.9.7"
  }
 },
 "nbformat": 4,
 "nbformat_minor": 5
}
