{
 "cells": [
  {
   "cell_type": "markdown",
   "id": "f1be373f",
   "metadata": {},
   "source": [
    "# Web Scrapping"
   ]
  },
  {
   "cell_type": "code",
   "execution_count": null,
   "id": "400ad1e2",
   "metadata": {},
   "outputs": [],
   "source": []
  },
  {
   "cell_type": "code",
   "execution_count": 1,
   "id": "15aa330f",
   "metadata": {
    "scrolled": true
   },
   "outputs": [
    {
     "name": "stdout",
     "output_type": "stream",
     "text": [
      "Requirement already satisfied: bs4 in c:\\users\\hp\\anaconda3\\lib\\site-packages (0.0.1)\n",
      "Requirement already satisfied: beautifulsoup4 in c:\\users\\hp\\anaconda3\\lib\\site-packages (from bs4) (4.10.0)\n",
      "Requirement already satisfied: soupsieve>1.2 in c:\\users\\hp\\anaconda3\\lib\\site-packages (from beautifulsoup4->bs4) (2.2.1)\n",
      "Requirement already satisfied: requests in c:\\users\\hp\\anaconda3\\lib\\site-packages (2.26.0)\n",
      "Requirement already satisfied: charset-normalizer~=2.0.0 in c:\\users\\hp\\anaconda3\\lib\\site-packages (from requests) (2.0.4)\n",
      "Requirement already satisfied: idna<4,>=2.5 in c:\\users\\hp\\anaconda3\\lib\\site-packages (from requests) (3.2)\n",
      "Requirement already satisfied: certifi>=2017.4.17 in c:\\users\\hp\\anaconda3\\lib\\site-packages (from requests) (2021.10.8)\n",
      "Requirement already satisfied: urllib3<1.27,>=1.21.1 in c:\\users\\hp\\anaconda3\\lib\\site-packages (from requests) (1.26.7)\n",
      "Requirement already satisfied: pandas in c:\\users\\hp\\anaconda3\\lib\\site-packages (1.3.4)\n",
      "Requirement already satisfied: numpy>=1.17.3 in c:\\users\\hp\\anaconda3\\lib\\site-packages (from pandas) (1.20.3)\n",
      "Requirement already satisfied: python-dateutil>=2.7.3 in c:\\users\\hp\\anaconda3\\lib\\site-packages (from pandas) (2.8.2)\n",
      "Requirement already satisfied: pytz>=2017.3 in c:\\users\\hp\\anaconda3\\lib\\site-packages (from pandas) (2021.3)\n",
      "Requirement already satisfied: six>=1.5 in c:\\users\\hp\\anaconda3\\lib\\site-packages (from python-dateutil>=2.7.3->pandas) (1.16.0)\n",
      "Requirement already satisfied: openpyxl in c:\\users\\hp\\anaconda3\\lib\\site-packages (3.0.9)\n",
      "Requirement already satisfied: et-xmlfile in c:\\users\\hp\\anaconda3\\lib\\site-packages (from openpyxl) (1.1.0)\n",
      "Requirement already satisfied: xlrd in c:\\users\\hp\\anaconda3\\lib\\site-packages (2.0.1)\n"
     ]
    }
   ],
   "source": [
    "!pip install bs4\n",
    "!pip install requests\n",
    "!pip install pandas\n",
    "!pip install openpyxl\n",
    "!pip install xlrd"
   ]
  },
  {
   "cell_type": "code",
   "execution_count": 2,
   "id": "9cdba886",
   "metadata": {},
   "outputs": [],
   "source": [
    "import numpy as np"
   ]
  },
  {
   "cell_type": "markdown",
   "id": "69a8ebb4",
   "metadata": {},
   "source": [
    "Write a python program to display all the header tags from wikipedia.org."
   ]
  },
  {
   "cell_type": "code",
   "execution_count": 3,
   "id": "a22ed8c1",
   "metadata": {},
   "outputs": [],
   "source": [
    "from urllib.request import urlopen"
   ]
  },
  {
   "cell_type": "code",
   "execution_count": 4,
   "id": "8ce60ed2",
   "metadata": {},
   "outputs": [],
   "source": [
    "from bs4 import BeautifulSoup"
   ]
  },
  {
   "cell_type": "code",
   "execution_count": 5,
   "id": "d4345c44",
   "metadata": {},
   "outputs": [],
   "source": [
    "html = urlopen(\"https://en.wikipedia.org/wiki/Main_Page\")"
   ]
  },
  {
   "cell_type": "code",
   "execution_count": 6,
   "id": "e5939570",
   "metadata": {},
   "outputs": [],
   "source": [
    "bs = BeautifulSoup(html, \"html.parser\")"
   ]
  },
  {
   "cell_type": "code",
   "execution_count": 7,
   "id": "c531a550",
   "metadata": {},
   "outputs": [],
   "source": [
    "titles = bs.find_all(['h1', 'h2','h3','h4','h5','h6'])\n",
    "\n",
    "#print('List all the header tags :', *titles, sep='\\n\\n')\n"
   ]
  },
  {
   "cell_type": "code",
   "execution_count": null,
   "id": "7f149652",
   "metadata": {},
   "outputs": [],
   "source": []
  },
  {
   "cell_type": "code",
   "execution_count": null,
   "id": "27f3771b",
   "metadata": {},
   "outputs": [],
   "source": []
  },
  {
   "cell_type": "markdown",
   "id": "c0530921",
   "metadata": {},
   "source": [
    "Write a python program to display IMDB’s Top rated 100 movies’ data (i.e. name, rating, year of release)\n",
    "and make data frame."
   ]
  },
  {
   "cell_type": "code",
   "execution_count": 8,
   "id": "24ed2f23",
   "metadata": {},
   "outputs": [],
   "source": [
    "from bs4 import BeautifulSoup\n",
    "import requests\n",
    "import pandas as pd"
   ]
  },
  {
   "cell_type": "code",
   "execution_count": 9,
   "id": "16be36fb",
   "metadata": {},
   "outputs": [],
   "source": [
    "url = \"https://www.imdb.com/chart/top/\""
   ]
  },
  {
   "cell_type": "code",
   "execution_count": 10,
   "id": "65701c17",
   "metadata": {},
   "outputs": [
    {
     "data": {
      "text/plain": [
       "<Response [200]>"
      ]
     },
     "execution_count": 10,
     "metadata": {},
     "output_type": "execute_result"
    }
   ],
   "source": [
    "response = requests.get(url)\n",
    "response"
   ]
  },
  {
   "cell_type": "code",
   "execution_count": 11,
   "id": "3030f6e6",
   "metadata": {},
   "outputs": [],
   "source": [
    "soup = BeautifulSoup(response.content, \"html.parser\")\n",
    "#print(soup.prettify())"
   ]
  },
  {
   "cell_type": "code",
   "execution_count": 12,
   "id": "4f189a23",
   "metadata": {},
   "outputs": [],
   "source": [
    "scrapped_movies = soup.find_all(\"td\", class_=\"titleColumn\")\n",
    "#movies"
   ]
  },
  {
   "cell_type": "code",
   "execution_count": 13,
   "id": "9e9ce065",
   "metadata": {},
   "outputs": [],
   "source": [
    "movies = []\n",
    "for movie in scrapped_movies:\n",
    "    movie = movie.get_text().replace(\"\\n\",\"\")\n",
    "    movie = movie.strip(\" \")\n",
    "    movie = movie.split(\".\")[1].split(\"(\")[0]\n",
    "    movies.append(movie)\n",
    "#movies"
   ]
  },
  {
   "cell_type": "code",
   "execution_count": 14,
   "id": "88ba18e6",
   "metadata": {},
   "outputs": [],
   "source": [
    "release_year=soup.find_all('span',class_='secondaryInfo')\n",
    "#release_year"
   ]
  },
  {
   "cell_type": "code",
   "execution_count": 15,
   "id": "502db0f0",
   "metadata": {},
   "outputs": [],
   "source": [
    "years =[]\n",
    "for year in release_year:\n",
    "    year = year.get_text().replace(\"\\n\", \"\").replace('(', \"\").replace(')', \"\")\n",
    "    year = year.strip(\" \")\n",
    "    years.append(year)\n",
    "#years"
   ]
  },
  {
   "cell_type": "code",
   "execution_count": 16,
   "id": "eec8fd26",
   "metadata": {},
   "outputs": [],
   "source": [
    "scrap_ratings = soup.find_all('td', class_=\"ratingColumn imdbRating\")\n",
    "#scrap_ratings"
   ]
  },
  {
   "cell_type": "code",
   "execution_count": 17,
   "id": "f7b4858e",
   "metadata": {},
   "outputs": [],
   "source": [
    "ratings = []\n",
    "\n",
    "for rate in scrap_ratings:\n",
    "    rate = rate.get_text().replace(\"\\n\", \"\")\n",
    "    rate = rate.strip(\" \")\n",
    "    ratings.append(rate)\n",
    "#ratings"
   ]
  },
  {
   "cell_type": "code",
   "execution_count": 18,
   "id": "474fa4a8",
   "metadata": {},
   "outputs": [],
   "source": [
    "#store scrapped data\n",
    "data = pd.DataFrame()\n",
    "data['Movie Names'] = movies\n",
    "data['Ratings'] = ratings\n",
    "data[\"Release Year\"] = years\n",
    "#data.head(100)\n"
   ]
  },
  {
   "cell_type": "code",
   "execution_count": 19,
   "id": "8913b131",
   "metadata": {},
   "outputs": [],
   "source": [
    "data.to_excel(\"IMDB top movies.xlsx\", index=False)"
   ]
  },
  {
   "cell_type": "code",
   "execution_count": null,
   "id": "25a9f7aa",
   "metadata": {},
   "outputs": [],
   "source": []
  },
  {
   "cell_type": "markdown",
   "id": "8f2f4c62",
   "metadata": {},
   "source": [
    "Write a python program to display IMDB’s Top rated 100 Indian movies’ data (i.e. name, rating, year of release) and make data frame."
   ]
  },
  {
   "cell_type": "code",
   "execution_count": 20,
   "id": "03a4180d",
   "metadata": {},
   "outputs": [],
   "source": [
    "from bs4 import BeautifulSoup\n",
    "import requests\n",
    "import pandas as pd"
   ]
  },
  {
   "cell_type": "code",
   "execution_count": 21,
   "id": "7d914daf",
   "metadata": {},
   "outputs": [],
   "source": [
    "url = \"https://www.imdb.com/india/top-rated-indian-movies/\""
   ]
  },
  {
   "cell_type": "code",
   "execution_count": 22,
   "id": "961ace23",
   "metadata": {},
   "outputs": [],
   "source": [
    "response = requests.get(url)\n",
    "#response"
   ]
  },
  {
   "cell_type": "code",
   "execution_count": 23,
   "id": "79eb2606",
   "metadata": {},
   "outputs": [],
   "source": [
    "soup = BeautifulSoup(response.content, \"html.parser\")\n",
    "#print(soup.prettify())"
   ]
  },
  {
   "cell_type": "code",
   "execution_count": 24,
   "id": "a93bbade",
   "metadata": {},
   "outputs": [],
   "source": [
    "scrapped_movies = soup.find_all(\"td\", class_=\"titleColumn\")\n",
    "#movies"
   ]
  },
  {
   "cell_type": "code",
   "execution_count": null,
   "id": "70295a0b",
   "metadata": {},
   "outputs": [],
   "source": []
  },
  {
   "cell_type": "code",
   "execution_count": 25,
   "id": "f62bceb2",
   "metadata": {},
   "outputs": [],
   "source": [
    "movies = []\n",
    "for movie in scrapped_movies:\n",
    "    movie = movie.get_text().replace(\"\\n\",\"\")\n",
    "    movie = movie.strip(\" \")\n",
    "    movie = movie.split(\".\")[1].split(\"(\")[0]\n",
    "    movies.append(movie)\n",
    "#movies"
   ]
  },
  {
   "cell_type": "code",
   "execution_count": 26,
   "id": "d506d170",
   "metadata": {},
   "outputs": [],
   "source": [
    "release_year=soup.find_all('span',class_='secondaryInfo')\n",
    "#release_year"
   ]
  },
  {
   "cell_type": "code",
   "execution_count": 27,
   "id": "2d2e05b1",
   "metadata": {},
   "outputs": [],
   "source": [
    "years =[]\n",
    "for year in release_year:\n",
    "    year = year.get_text().replace(\"\\n\", \"\").replace('(', \"\").replace(')', \"\")\n",
    "    year = year.strip(\" \")\n",
    "    years.append(year)\n",
    "#years"
   ]
  },
  {
   "cell_type": "code",
   "execution_count": 28,
   "id": "d99f1f45",
   "metadata": {},
   "outputs": [],
   "source": [
    "scrap_ratings = soup.find_all('td', class_=\"ratingColumn imdbRating\")\n",
    "#scrap_ratings"
   ]
  },
  {
   "cell_type": "code",
   "execution_count": 29,
   "id": "87c330c6",
   "metadata": {},
   "outputs": [],
   "source": [
    "ratings = []\n",
    "\n",
    "for rate in scrap_ratings:\n",
    "    rate = rate.get_text().replace(\"\\n\", \"\")\n",
    "    rate = rate.strip(\" \")\n",
    "    ratings.append(rate)\n",
    "#ratings"
   ]
  },
  {
   "cell_type": "code",
   "execution_count": 30,
   "id": "00998ce8",
   "metadata": {},
   "outputs": [],
   "source": [
    "#store scrapped data\n",
    "data = pd.DataFrame()\n",
    "data['Movie Names'] = movies\n",
    "data['Ratings'] = ratings\n",
    "data[\"Release Year\"] = years\n",
    "#data.head(100)"
   ]
  },
  {
   "cell_type": "code",
   "execution_count": 31,
   "id": "381a45ae",
   "metadata": {},
   "outputs": [],
   "source": [
    "data.to_excel(\"IMDB top movies.xlsx\", index=False)"
   ]
  },
  {
   "cell_type": "code",
   "execution_count": null,
   "id": "fc22ad81",
   "metadata": {},
   "outputs": [],
   "source": []
  },
  {
   "cell_type": "markdown",
   "id": "1e4b9d90",
   "metadata": {},
   "source": [
    "Write s python program to display list of respected former presidents of India(i.e. Name , Term of office)\n",
    "from https://presidentofindia.nic.in/former-presidents.htm"
   ]
  },
  {
   "cell_type": "code",
   "execution_count": 32,
   "id": "25fd8c8e",
   "metadata": {},
   "outputs": [],
   "source": [
    "from bs4 import BeautifulSoup\n",
    "import requests\n",
    "import pandas as pd"
   ]
  },
  {
   "cell_type": "code",
   "execution_count": 33,
   "id": "52beb9cd",
   "metadata": {},
   "outputs": [],
   "source": [
    "url = \"https://presidentofindia.nic.in/former-presidents.htm\""
   ]
  },
  {
   "cell_type": "code",
   "execution_count": 34,
   "id": "2d53116f",
   "metadata": {},
   "outputs": [],
   "source": [
    "response = requests.get(url)\n",
    "#response"
   ]
  },
  {
   "cell_type": "code",
   "execution_count": 35,
   "id": "46d6ec1b",
   "metadata": {},
   "outputs": [],
   "source": [
    "soup = BeautifulSoup(response.content, \"html.parser\")\n",
    "#print(soup.prettify())"
   ]
  },
  {
   "cell_type": "code",
   "execution_count": 36,
   "id": "d7316130",
   "metadata": {},
   "outputs": [],
   "source": [
    "former_president = soup.find_all(\"div\", class_=\"presidentListing\")\n",
    "#former_president"
   ]
  },
  {
   "cell_type": "code",
   "execution_count": 37,
   "id": "330f32ce",
   "metadata": {},
   "outputs": [],
   "source": [
    "presidents = []\n",
    "for president in soup.find_all(\"h3\"):\n",
    "    president = president.text.split(\"(\")[0]\n",
    "    presidents.append(president)\n",
    "#presidents  "
   ]
  },
  {
   "cell_type": "code",
   "execution_count": 38,
   "id": "942e2712",
   "metadata": {},
   "outputs": [],
   "source": [
    "terms_office = soup.find_all(\"span\",\"terms\")\n",
    "terms_offices = []\n",
    "for term in terms_office:\n",
    "    term = term.parent.text.split(\":\")[1]\n",
    "    terms_offices.append(term)\n",
    "#terms_offices"
   ]
  },
  {
   "cell_type": "code",
   "execution_count": 39,
   "id": "0a422878",
   "metadata": {},
   "outputs": [],
   "source": [
    "#store scrapped data\n",
    "import numpy as np\n",
    "data = pd.DataFrame()\n",
    "data['Former Presidents'] = presidents\n",
    "data['Term of Office'] = terms_offices\n",
    "data = data.set_index(np.arange(1,len(data)+1))\n",
    "#data.head(14)"
   ]
  },
  {
   "cell_type": "code",
   "execution_count": null,
   "id": "9d977ff3",
   "metadata": {},
   "outputs": [],
   "source": []
  },
  {
   "cell_type": "markdown",
   "id": "83fccf48",
   "metadata": {},
   "source": [
    "Write a python program to scrape cricket rankings from icc-cricket.com. You have to scrape:\n",
    "    \n",
    "a) Top 10 ODI teams in men’s cricket along with the records for matches, points and rating.\n",
    "\n",
    "b) Top 10 ODI Batsmen along with the records of their team and rating.\n",
    "\n",
    "c) Top 10 ODI bowlers along with the records of their team and rating."
   ]
  },
  {
   "cell_type": "code",
   "execution_count": 40,
   "id": "56d1bb42",
   "metadata": {},
   "outputs": [],
   "source": [
    "from bs4 import BeautifulSoup\n",
    "import requests\n",
    "import pandas as pd"
   ]
  },
  {
   "cell_type": "markdown",
   "id": "6ac91827",
   "metadata": {},
   "source": [
    "a) Top 10 ODI teams in men’s cricket along with the records for matches, points and rating."
   ]
  },
  {
   "cell_type": "code",
   "execution_count": 41,
   "id": "e47245c5",
   "metadata": {},
   "outputs": [],
   "source": [
    "url = \"https://www.icc-cricket.com/rankings/mens/team-rankings/odi\""
   ]
  },
  {
   "cell_type": "code",
   "execution_count": 42,
   "id": "c7bcda4d",
   "metadata": {},
   "outputs": [],
   "source": [
    "page = requests.get(url)\n",
    "#page"
   ]
  },
  {
   "cell_type": "code",
   "execution_count": 43,
   "id": "65e1865d",
   "metadata": {},
   "outputs": [],
   "source": [
    "soup = BeautifulSoup(page.content, \"html.parser\")\n",
    "#print(soup.prettify())"
   ]
  },
  {
   "cell_type": "code",
   "execution_count": 44,
   "id": "2b75cc72",
   "metadata": {},
   "outputs": [],
   "source": [
    "odi_team = soup.find_all(\"span\", class_=\"u-hide-phablet\")\n",
    "#odi_team"
   ]
  },
  {
   "cell_type": "code",
   "execution_count": 45,
   "id": "d64fbb4e",
   "metadata": {},
   "outputs": [],
   "source": [
    "teams = []\n",
    "for team in odi_team:\n",
    "    team = team.text\n",
    "    teams.append(team)\n",
    "#teams"
   ]
  },
  {
   "cell_type": "code",
   "execution_count": 46,
   "id": "f4a51872",
   "metadata": {},
   "outputs": [],
   "source": [
    "odi_matches = soup.find_all(\"td\",class_=\"rankings-block__banner--matches\") + soup.find_all(\"td\", class_=\"table-body__cell u-center-text\")\n",
    "#odi_matches"
   ]
  },
  {
   "cell_type": "code",
   "execution_count": 47,
   "id": "56b6ec5f",
   "metadata": {},
   "outputs": [],
   "source": [
    "matches = []\n",
    "count=0\n",
    "for match in odi_matches:\n",
    "    if(count==0):\n",
    "        match = match.text\n",
    "        matches.append(match)\n",
    "    elif(count%2!=0):\n",
    "        match = match.text\n",
    "        matches.append(match)\n",
    "    count+=1\n",
    "#matches"
   ]
  },
  {
   "cell_type": "code",
   "execution_count": 48,
   "id": "26bf0262",
   "metadata": {},
   "outputs": [],
   "source": [
    "odi_points = soup.find_all(\"td\", class_=\"rankings-block__banner--points\") + soup.find_all(\"td\", class_=\"table-body__cell u-center-text\")\n",
    "#odi_points"
   ]
  },
  {
   "cell_type": "code",
   "execution_count": 49,
   "id": "d6c5f1d3",
   "metadata": {},
   "outputs": [],
   "source": [
    "points = []\n",
    "count = 0\n",
    "for point in odi_points:\n",
    "    if (count==0):\n",
    "        point = point.text\n",
    "        points.append(point)\n",
    "    elif (count%2==0):\n",
    "        point = point.text\n",
    "        points.append(point)\n",
    "    count+=1\n",
    "#points\n",
    "    "
   ]
  },
  {
   "cell_type": "code",
   "execution_count": 50,
   "id": "7455d41e",
   "metadata": {},
   "outputs": [],
   "source": [
    "odi_ratings = soup.find_all(\"td\", class_=\"rankings-block__banner--rating u-text-right\")+ soup.find_all(\"td\", class_=\"table-body__cell u-text-right rating\")\n",
    "#odi_ratings"
   ]
  },
  {
   "cell_type": "code",
   "execution_count": 51,
   "id": "2383de9e",
   "metadata": {},
   "outputs": [],
   "source": [
    "ratings = []\n",
    "for rating in odi_ratings:\n",
    "    rating = rating.text.strip(\"\\n\").strip(\" \").strip(\"\\n\")\n",
    "    ratings.append(rating)\n",
    "#ratings"
   ]
  },
  {
   "cell_type": "code",
   "execution_count": 52,
   "id": "681cd82a",
   "metadata": {},
   "outputs": [],
   "source": [
    "#store scrapped data\n",
    "import numpy as np\n",
    "data = pd.DataFrame()\n",
    "data['TEAM'] = teams\n",
    "data['MATCHES'] = matches\n",
    "data['POINTS'] = points\n",
    "data['RATING'] = ratings\n",
    "data = data.set_index(np.arange(1,len(data)+1))\n",
    "#data.head()"
   ]
  },
  {
   "cell_type": "code",
   "execution_count": null,
   "id": "ccedc1be",
   "metadata": {},
   "outputs": [],
   "source": []
  },
  {
   "cell_type": "markdown",
   "id": "e83d5d1a",
   "metadata": {},
   "source": [
    "b) Top 10 ODI Batsmen along with the records of their team and rating.\n",
    "\n",
    "c) Top 10 ODI bowlers along with the records of their team and rating."
   ]
  },
  {
   "cell_type": "code",
   "execution_count": 53,
   "id": "b8e57fef",
   "metadata": {},
   "outputs": [],
   "source": [
    "url_player = \"https://www.icc-cricket.com/rankings/mens/player-rankings/odi\""
   ]
  },
  {
   "cell_type": "code",
   "execution_count": 54,
   "id": "5cb386d7",
   "metadata": {},
   "outputs": [],
   "source": [
    "player_page = requests.get(url_player)\n",
    "#page"
   ]
  },
  {
   "cell_type": "code",
   "execution_count": 55,
   "id": "56580532",
   "metadata": {},
   "outputs": [],
   "source": [
    "soup = BeautifulSoup(player_page.content, \"html.parser\")\n",
    "#print(soup.prettify())"
   ]
  },
  {
   "cell_type": "code",
   "execution_count": 56,
   "id": "64bef07a",
   "metadata": {},
   "outputs": [],
   "source": [
    "first_playerx = soup.find(\"div\", class_=\"rankings-block__banner--name\").text\n",
    "odi_players = soup.find_all(\"td\",class_=\"table-body__cell name\")\n",
    "# odi_players"
   ]
  },
  {
   "cell_type": "code",
   "execution_count": 57,
   "id": "3282383a",
   "metadata": {},
   "outputs": [],
   "source": [
    "top_player = [first_playerx]\n",
    "for player in odi_players:\n",
    "    player = player.a.text\n",
    "    top_player.append(player)\n",
    "# top_player"
   ]
  },
  {
   "cell_type": "code",
   "execution_count": 58,
   "id": "faaafdd3",
   "metadata": {},
   "outputs": [],
   "source": [
    "first_team = soup.find(\"div\", class_=\"rankings-block__banner--nationality\").text.strip(\"\\n\").split(\"\\n\")[0]\n",
    "top_team = soup.find_all(\"span\",class_='table-body__logo-text')\n",
    "#first_team\n",
    "# top_team"
   ]
  },
  {
   "cell_type": "code",
   "execution_count": 59,
   "id": "4334d6ff",
   "metadata": {},
   "outputs": [],
   "source": [
    "teams = [first_team]\n",
    "for team in top_team:\n",
    "    team = team.text\n",
    "    teams.append(team)\n",
    "# teams.pop()\n",
    "#teams"
   ]
  },
  {
   "cell_type": "code",
   "execution_count": 60,
   "id": "0b0e7c0d",
   "metadata": {},
   "outputs": [],
   "source": [
    "first_ratings = soup.find(\"div\", class_=\"rankings-block__banner--rating\").text\n",
    "top_ratings = soup.find_all(\"td\", class_=\"table-body__cell u-text-right rating\")\n",
    "#top_ratings\n",
    "#first_ratings"
   ]
  },
  {
   "cell_type": "code",
   "execution_count": 61,
   "id": "70a6e24e",
   "metadata": {},
   "outputs": [],
   "source": [
    "ratings = [first_ratings]\n",
    "for rating in top_ratings:\n",
    "    rating = rating.text\n",
    "    ratings.append(rating)\n",
    "# ratings.pop()"
   ]
  },
  {
   "cell_type": "code",
   "execution_count": 62,
   "id": "f7c779d0",
   "metadata": {},
   "outputs": [
    {
     "data": {
      "text/plain": [
       "54"
      ]
     },
     "execution_count": 62,
     "metadata": {},
     "output_type": "execute_result"
    }
   ],
   "source": [
    "len(top_player)\n",
    "len(teams)\n",
    "len(top_ratings)"
   ]
  },
  {
   "cell_type": "code",
   "execution_count": 63,
   "id": "820a2078",
   "metadata": {},
   "outputs": [],
   "source": [
    "#store scrapped data\n",
    "import numpy as np\n",
    "data = pd.DataFrame()\n",
    "data['Player'] = top_player\n",
    "data['Team'] = teams\n",
    "data['RATING'] = ratings\n",
    "data = data.set_index(np.arange(1,len(data)+1))\n",
    "data_batsman = data.head(10)\n",
    "# data_batsman\n",
    "data_bowlers = data.iloc[10:20]\n",
    "data_bowlers=data_bowlers.set_index(np.arange(1,len(data_bowlers)+1))"
   ]
  },
  {
   "cell_type": "code",
   "execution_count": 64,
   "id": "b3a3f2fa",
   "metadata": {},
   "outputs": [
    {
     "data": {
      "text/html": [
       "<div>\n",
       "<style scoped>\n",
       "    .dataframe tbody tr th:only-of-type {\n",
       "        vertical-align: middle;\n",
       "    }\n",
       "\n",
       "    .dataframe tbody tr th {\n",
       "        vertical-align: top;\n",
       "    }\n",
       "\n",
       "    .dataframe thead th {\n",
       "        text-align: right;\n",
       "    }\n",
       "</style>\n",
       "<table border=\"1\" class=\"dataframe\">\n",
       "  <thead>\n",
       "    <tr style=\"text-align: right;\">\n",
       "      <th></th>\n",
       "      <th>Player</th>\n",
       "      <th>Team</th>\n",
       "      <th>RATING</th>\n",
       "    </tr>\n",
       "  </thead>\n",
       "  <tbody>\n",
       "    <tr>\n",
       "      <th>1</th>\n",
       "      <td>Josh Hazlewood</td>\n",
       "      <td>AUS</td>\n",
       "      <td>718</td>\n",
       "    </tr>\n",
       "    <tr>\n",
       "      <th>2</th>\n",
       "      <td>Mujeeb Ur Rahman</td>\n",
       "      <td>AFG</td>\n",
       "      <td>676</td>\n",
       "    </tr>\n",
       "    <tr>\n",
       "      <th>3</th>\n",
       "      <td>Jasprit Bumrah</td>\n",
       "      <td>IND</td>\n",
       "      <td>662</td>\n",
       "    </tr>\n",
       "    <tr>\n",
       "      <th>4</th>\n",
       "      <td>Shaheen Afridi</td>\n",
       "      <td>PAK</td>\n",
       "      <td>661</td>\n",
       "    </tr>\n",
       "    <tr>\n",
       "      <th>5</th>\n",
       "      <td>Mohammad Nabi</td>\n",
       "      <td>AFG</td>\n",
       "      <td>657</td>\n",
       "    </tr>\n",
       "    <tr>\n",
       "      <th>6</th>\n",
       "      <td>Mehedi Hasan</td>\n",
       "      <td>BAN</td>\n",
       "      <td>655</td>\n",
       "    </tr>\n",
       "    <tr>\n",
       "      <th>7</th>\n",
       "      <td>Matt Henry</td>\n",
       "      <td>NZ</td>\n",
       "      <td>654</td>\n",
       "    </tr>\n",
       "    <tr>\n",
       "      <th>8</th>\n",
       "      <td>Mitchell Starc</td>\n",
       "      <td>AUS</td>\n",
       "      <td>653</td>\n",
       "    </tr>\n",
       "    <tr>\n",
       "      <th>9</th>\n",
       "      <td>Rashid Khan</td>\n",
       "      <td>AFG</td>\n",
       "      <td>651</td>\n",
       "    </tr>\n",
       "    <tr>\n",
       "      <th>10</th>\n",
       "      <td>Mohammad Nabi</td>\n",
       "      <td>AFG</td>\n",
       "      <td>325</td>\n",
       "    </tr>\n",
       "  </tbody>\n",
       "</table>\n",
       "</div>"
      ],
      "text/plain": [
       "              Player Team RATING\n",
       "1     Josh Hazlewood  AUS    718\n",
       "2   Mujeeb Ur Rahman  AFG    676\n",
       "3     Jasprit Bumrah  IND    662\n",
       "4     Shaheen Afridi  PAK    661\n",
       "5      Mohammad Nabi  AFG    657\n",
       "6       Mehedi Hasan  BAN    655\n",
       "7         Matt Henry   NZ    654\n",
       "8     Mitchell Starc  AUS    653\n",
       "9        Rashid Khan  AFG    651\n",
       "10     Mohammad Nabi  AFG    325"
      ]
     },
     "execution_count": 64,
     "metadata": {},
     "output_type": "execute_result"
    }
   ],
   "source": [
    "data_bowlers"
   ]
  },
  {
   "cell_type": "code",
   "execution_count": null,
   "id": "ce1f3097",
   "metadata": {},
   "outputs": [],
   "source": []
  },
  {
   "cell_type": "markdown",
   "id": "d396355e",
   "metadata": {},
   "source": [
    "Write a python program to scrape cricket rankings from icc-cricket.com. You have to scrape:\n",
    "    \n",
    "a) Top 10 ODI teams in women’s cricket along with the records for matches, points and rating.\n",
    "\n",
    "b) Top 10 women’s ODI Batting players along with the records of their team and rating.\n",
    "\n",
    "c) Top 10 women’s ODI all-rounder along with the records of their team and rating."
   ]
  },
  {
   "cell_type": "code",
   "execution_count": 125,
   "id": "93298510",
   "metadata": {},
   "outputs": [],
   "source": [
    "url = \"https://www.icc-cricket.com/rankings/womens/team-rankings/odi\""
   ]
  },
  {
   "cell_type": "code",
   "execution_count": 126,
   "id": "14caabf8",
   "metadata": {},
   "outputs": [],
   "source": [
    "page = requests.get(url)\n",
    "#page\n",
    "soup = BeautifulSoup(page.content, \"html.parser\")\n",
    "#print(soup.prettify())\n",
    "odi_team = soup.find_all(\"span\", class_=\"u-hide-phablet\")\n",
    "#odi_team"
   ]
  },
  {
   "cell_type": "code",
   "execution_count": 127,
   "id": "fc3a70d2",
   "metadata": {},
   "outputs": [],
   "source": [
    "teams = []\n",
    "for team in odi_team:\n",
    "    team = team.text\n",
    "    teams.append(team)\n",
    "#teams"
   ]
  },
  {
   "cell_type": "code",
   "execution_count": 128,
   "id": "39106c5d",
   "metadata": {},
   "outputs": [],
   "source": [
    "odi_matches = soup.find_all(\"td\",class_=\"rankings-block__banner--matches\") + soup.find_all(\"td\", class_=\"table-body__cell u-center-text\")\n",
    "#odi_matches"
   ]
  },
  {
   "cell_type": "code",
   "execution_count": 129,
   "id": "b8057b6a",
   "metadata": {},
   "outputs": [],
   "source": [
    "matches = []\n",
    "count=0\n",
    "for match in odi_matches:\n",
    "    if(count==0):\n",
    "        match = match.text\n",
    "        matches.append(match)\n",
    "    elif(count%2!=0):\n",
    "        match = match.text\n",
    "        matches.append(match)\n",
    "    count+=1\n",
    "#matches"
   ]
  },
  {
   "cell_type": "code",
   "execution_count": 130,
   "id": "f8622a08",
   "metadata": {},
   "outputs": [],
   "source": [
    "odi_points = soup.find_all(\"td\", class_=\"rankings-block__banner--points\") + soup.find_all(\"td\", class_=\"table-body__cell u-center-text\")\n",
    "#odi_points"
   ]
  },
  {
   "cell_type": "code",
   "execution_count": 131,
   "id": "d48edb43",
   "metadata": {},
   "outputs": [],
   "source": [
    "points = []\n",
    "count = 0\n",
    "for point in odi_points:\n",
    "    if (count==0):\n",
    "        point = point.text\n",
    "        points.append(point)\n",
    "    elif (count%2==0):\n",
    "        point = point.text\n",
    "        points.append(point)\n",
    "    count+=1\n",
    "#points\n",
    "    "
   ]
  },
  {
   "cell_type": "code",
   "execution_count": 132,
   "id": "055dcc72",
   "metadata": {},
   "outputs": [],
   "source": [
    "odi_ratings = soup.find_all(\"td\", class_=\"rankings-block__banner--rating u-text-right\")+ soup.find_all(\"td\", class_=\"table-body__cell u-text-right rating\")\n",
    "#odi_ratings"
   ]
  },
  {
   "cell_type": "code",
   "execution_count": 133,
   "id": "d4895a55",
   "metadata": {},
   "outputs": [],
   "source": [
    "ratings = []\n",
    "for rating in odi_ratings:\n",
    "    rating = rating.text.strip(\"\\n\").strip(\" \").strip(\"\\n\")\n",
    "    ratings.append(rating)\n",
    "#ratings"
   ]
  },
  {
   "cell_type": "code",
   "execution_count": 135,
   "id": "245449f4",
   "metadata": {},
   "outputs": [
    {
     "data": {
      "text/html": [
       "<div>\n",
       "<style scoped>\n",
       "    .dataframe tbody tr th:only-of-type {\n",
       "        vertical-align: middle;\n",
       "    }\n",
       "\n",
       "    .dataframe tbody tr th {\n",
       "        vertical-align: top;\n",
       "    }\n",
       "\n",
       "    .dataframe thead th {\n",
       "        text-align: right;\n",
       "    }\n",
       "</style>\n",
       "<table border=\"1\" class=\"dataframe\">\n",
       "  <thead>\n",
       "    <tr style=\"text-align: right;\">\n",
       "      <th></th>\n",
       "      <th>TEAM</th>\n",
       "      <th>MATCHES</th>\n",
       "      <th>POINTS</th>\n",
       "      <th>RATING</th>\n",
       "    </tr>\n",
       "  </thead>\n",
       "  <tbody>\n",
       "    <tr>\n",
       "      <th>1</th>\n",
       "      <td>Australia</td>\n",
       "      <td>29</td>\n",
       "      <td>4,837</td>\n",
       "      <td>167</td>\n",
       "    </tr>\n",
       "    <tr>\n",
       "      <th>2</th>\n",
       "      <td>South Africa</td>\n",
       "      <td>35</td>\n",
       "      <td>4,157</td>\n",
       "      <td>119</td>\n",
       "    </tr>\n",
       "    <tr>\n",
       "      <th>3</th>\n",
       "      <td>England</td>\n",
       "      <td>36</td>\n",
       "      <td>4,205</td>\n",
       "      <td>117</td>\n",
       "    </tr>\n",
       "    <tr>\n",
       "      <th>4</th>\n",
       "      <td>India</td>\n",
       "      <td>35</td>\n",
       "      <td>3,732</td>\n",
       "      <td>107</td>\n",
       "    </tr>\n",
       "    <tr>\n",
       "      <th>5</th>\n",
       "      <td>New Zealand</td>\n",
       "      <td>33</td>\n",
       "      <td>3,302</td>\n",
       "      <td>100</td>\n",
       "    </tr>\n",
       "  </tbody>\n",
       "</table>\n",
       "</div>"
      ],
      "text/plain": [
       "           TEAM MATCHES POINTS RATING\n",
       "1     Australia      29  4,837    167\n",
       "2  South Africa      35  4,157    119\n",
       "3       England      36  4,205    117\n",
       "4         India      35  3,732    107\n",
       "5   New Zealand      33  3,302    100"
      ]
     },
     "execution_count": 135,
     "metadata": {},
     "output_type": "execute_result"
    }
   ],
   "source": [
    "#store scrapped data\n",
    "import numpy as np\n",
    "data = pd.DataFrame()\n",
    "data['TEAM'] = teams\n",
    "data['MATCHES'] = matches\n",
    "data['POINTS'] = points\n",
    "data['RATING'] = ratings\n",
    "data = data.set_index(np.arange(1,len(data)+1))\n",
    "data.head()"
   ]
  },
  {
   "cell_type": "code",
   "execution_count": 138,
   "id": "9275ba9a",
   "metadata": {},
   "outputs": [],
   "source": [
    "url_player = \"https://www.icc-cricket.com/rankings/womens/player-rankings/odi\""
   ]
  },
  {
   "cell_type": "code",
   "execution_count": 139,
   "id": "fc6e8687",
   "metadata": {},
   "outputs": [],
   "source": [
    "player_page = requests.get(url_player)\n",
    "#page"
   ]
  },
  {
   "cell_type": "code",
   "execution_count": 140,
   "id": "452e1d9f",
   "metadata": {},
   "outputs": [],
   "source": [
    "soup = BeautifulSoup(player_page.content, \"html.parser\")\n",
    "#print(soup.prettify())"
   ]
  },
  {
   "cell_type": "code",
   "execution_count": 141,
   "id": "b76bea13",
   "metadata": {},
   "outputs": [],
   "source": [
    "first_playerx = soup.find(\"div\", class_=\"rankings-block__banner--name\").text\n",
    "odi_players = soup.find_all(\"td\",class_=\"table-body__cell name\")\n",
    "# odi_players"
   ]
  },
  {
   "cell_type": "code",
   "execution_count": 142,
   "id": "b82e2685",
   "metadata": {},
   "outputs": [],
   "source": [
    "top_player = [first_playerx]\n",
    "for player in odi_players:\n",
    "    player = player.a.text\n",
    "    top_player.append(player)\n",
    "# top_player"
   ]
  },
  {
   "cell_type": "code",
   "execution_count": 143,
   "id": "a99e600a",
   "metadata": {},
   "outputs": [],
   "source": [
    "first_team = soup.find(\"div\", class_=\"rankings-block__banner--nationality\").text.strip(\"\\n\").split(\"\\n\")[0]\n",
    "top_team = soup.find_all(\"span\",class_='table-body__logo-text')\n",
    "#first_team\n",
    "# top_team"
   ]
  },
  {
   "cell_type": "code",
   "execution_count": 144,
   "id": "70096d70",
   "metadata": {},
   "outputs": [],
   "source": [
    "teams = [first_team]\n",
    "for team in top_team:\n",
    "    team = team.text\n",
    "    teams.append(team)\n",
    "# teams.pop()\n",
    "#teams"
   ]
  },
  {
   "cell_type": "code",
   "execution_count": 146,
   "id": "c59aa32e",
   "metadata": {},
   "outputs": [],
   "source": [
    "first_ratings = soup.find(\"div\", class_=\"rankings-block__banner--rating\").text\n",
    "top_ratings = soup.find_all(\"td\", class_=\"table-body__cell u-text-right rating\")\n",
    "#top_ratings\n",
    "#first_ratings"
   ]
  },
  {
   "cell_type": "code",
   "execution_count": 148,
   "id": "d7c81665",
   "metadata": {},
   "outputs": [],
   "source": [
    "ratings = [first_ratings]\n",
    "for rating in top_ratings:\n",
    "    rating = rating.text\n",
    "    ratings.append(rating)\n",
    "# ratings.pop()"
   ]
  },
  {
   "cell_type": "code",
   "execution_count": 164,
   "id": "923f4598",
   "metadata": {},
   "outputs": [],
   "source": [
    "#store scrapped data\n",
    "import numpy as np\n",
    "data = pd.DataFrame()\n",
    "data['Player'] = top_player\n",
    "data['Team'] = teams\n",
    "data['RATING'] = ratings\n",
    "data = data.set_index(np.arange(1,len(data)+1))\n",
    "data_batsman = data.head(10)\n",
    "# data_batsman\n",
    "data_allrounders = data.iloc[19:28]\n",
    "data_allrounders=data_allrounders.set_index(np.arange(1,len(data_allrounders)+1))"
   ]
  },
  {
   "cell_type": "code",
   "execution_count": 167,
   "id": "24fa34ca",
   "metadata": {},
   "outputs": [],
   "source": [
    "# data_allrounders"
   ]
  },
  {
   "cell_type": "code",
   "execution_count": 168,
   "id": "f2fdd700",
   "metadata": {},
   "outputs": [],
   "source": [
    "# data_batsman"
   ]
  },
  {
   "cell_type": "code",
   "execution_count": null,
   "id": "7d0fd363",
   "metadata": {},
   "outputs": [],
   "source": []
  },
  {
   "cell_type": "code",
   "execution_count": null,
   "id": "9c7cee61",
   "metadata": {},
   "outputs": [],
   "source": []
  },
  {
   "cell_type": "markdown",
   "id": "b3a9cbb6",
   "metadata": {},
   "source": [
    "Write a python program to scrape mentioned news details from https://www.cnbc.com/world/?region=world :\n",
    "        \n",
    "i) Headline\n",
    "\n",
    "ii) Time\n",
    "\n",
    "iii) News Link"
   ]
  },
  {
   "cell_type": "code",
   "execution_count": 65,
   "id": "78d42d60",
   "metadata": {},
   "outputs": [],
   "source": [
    "from bs4 import BeautifulSoup\n",
    "import requests\n",
    "import numpy as np\n",
    "import pandas as pd"
   ]
  },
  {
   "cell_type": "code",
   "execution_count": 66,
   "id": "a0944aae",
   "metadata": {},
   "outputs": [],
   "source": [
    "url = \"https://www.cnbc.com/world/?region=world\""
   ]
  },
  {
   "cell_type": "code",
   "execution_count": 67,
   "id": "b2f87942",
   "metadata": {},
   "outputs": [],
   "source": [
    "r = requests.get(url)\n",
    "#r"
   ]
  },
  {
   "cell_type": "code",
   "execution_count": 68,
   "id": "29252e96",
   "metadata": {},
   "outputs": [],
   "source": [
    "soup = BeautifulSoup(r.content, \"html.parser\")\n",
    "# print(soup.prettify())"
   ]
  },
  {
   "cell_type": "code",
   "execution_count": 69,
   "id": "3ac26024",
   "metadata": {},
   "outputs": [],
   "source": [
    "container = soup.find_all(\"div\",class_=\"LatestNews-headlineWrapper\")"
   ]
  },
  {
   "cell_type": "code",
   "execution_count": 70,
   "id": "1f616058",
   "metadata": {},
   "outputs": [],
   "source": [
    "headlines = []\n",
    "times = []\n",
    "links = []\n",
    "for content in container:\n",
    "    head = content.a.text\n",
    "    headlines.append(head)\n",
    "    time = content.span.text\n",
    "    times.append(time)\n",
    "    link = content.a['href']\n",
    "    links.append(link)\n",
    "    #print(content.prettify())"
   ]
  },
  {
   "cell_type": "code",
   "execution_count": 71,
   "id": "de7fa176",
   "metadata": {},
   "outputs": [],
   "source": [
    "#links"
   ]
  },
  {
   "cell_type": "code",
   "execution_count": 72,
   "id": "8f51a06b",
   "metadata": {},
   "outputs": [],
   "source": [
    "df = pd.DataFrame()\n",
    "df[\"Headlines\"] = headlines\n",
    "df[\"Time\"] = times\n",
    "df[\"News Link\"] = links\n",
    "df = df[df[\"Headlines\"]!=\"\"]\n",
    "df = df.set_index(np.arange(1,len(df)+1))"
   ]
  },
  {
   "cell_type": "code",
   "execution_count": 73,
   "id": "73aa8c61",
   "metadata": {},
   "outputs": [],
   "source": [
    "# df = df[df[\"Headlines\"]!=\"\"]"
   ]
  },
  {
   "cell_type": "code",
   "execution_count": 74,
   "id": "98f64cf2",
   "metadata": {},
   "outputs": [],
   "source": [
    "# df\n",
    "df = df.head(10)\n",
    "#df"
   ]
  },
  {
   "cell_type": "code",
   "execution_count": 75,
   "id": "08e6b203",
   "metadata": {},
   "outputs": [],
   "source": [
    "df.to_excel(\"News Data.xlsx\")"
   ]
  },
  {
   "cell_type": "markdown",
   "id": "c2bde59c",
   "metadata": {},
   "source": [
    "Write a python program to scrape the details of most downloaded articles from AI in last 90 days.\n",
    "\n",
    "https://www.journals.elsevier.com/artificial-intelligence/most-downloaded-articles\n",
    "    \n",
    "Scrape below mentioned details :\n",
    "    \n",
    "i) Paper Title\n",
    "\n",
    "ii) Authors\n",
    "\n",
    "iii) Published Date\n",
    "\n",
    "iv) Paper URL"
   ]
  },
  {
   "cell_type": "code",
   "execution_count": 76,
   "id": "9ad9f8e0",
   "metadata": {},
   "outputs": [],
   "source": [
    "from urllib.request import Request, urlopen"
   ]
  },
  {
   "cell_type": "code",
   "execution_count": 77,
   "id": "3f6c6f82",
   "metadata": {},
   "outputs": [],
   "source": [
    "link = \"https://www.journals.elsevier.com/artificial-intelligence/most-downloaded-articles\""
   ]
  },
  {
   "cell_type": "code",
   "execution_count": 78,
   "id": "85a8f747",
   "metadata": {},
   "outputs": [],
   "source": [
    "r = requests.get(link)"
   ]
  },
  {
   "cell_type": "code",
   "execution_count": 79,
   "id": "f4d16242",
   "metadata": {},
   "outputs": [],
   "source": [
    "soup_ai = BeautifulSoup(r.content,\"html.parser\")\n",
    "# print(soup_ai.prettify())"
   ]
  },
  {
   "cell_type": "code",
   "execution_count": 80,
   "id": "e7f5eed4",
   "metadata": {},
   "outputs": [],
   "source": [
    "downloads_ai = soup_ai.find_all(\"h2\", class_=\"sc-1qrq3sd-1 MKjKb sc-1nmom32-0 sc-1nmom32-1 hqhUYH ebTA-dR\")\n",
    "downloads_ai\n",
    "heads_ai=[]\n",
    "for i in downloads_ai:\n",
    "    i = i.text\n",
    "    heads_ai.append(i)\n",
    "#heads_ai"
   ]
  },
  {
   "cell_type": "code",
   "execution_count": 81,
   "id": "0fcb9c89",
   "metadata": {},
   "outputs": [],
   "source": [
    "link_ai=[]\n",
    "for i in downloads_ai:\n",
    "    i = i.parent['href']\n",
    "    link_ai.append(i)\n",
    "#link_ai"
   ]
  },
  {
   "cell_type": "code",
   "execution_count": 82,
   "id": "5f7b2407",
   "metadata": {},
   "outputs": [],
   "source": [
    "name_ai = soup_ai.find_all(\"span\", class_=\"sc-1w3fpd7-0 pgLAT\")\n",
    "name_ai\n",
    "authors = []\n",
    "for author in name_ai:\n",
    "    author= author.text\n",
    "    authors.append(author)\n",
    "#authors"
   ]
  },
  {
   "cell_type": "code",
   "execution_count": 83,
   "id": "13a56cdb",
   "metadata": {},
   "outputs": [],
   "source": [
    "date_ai = soup_ai.find_all(\"span\", class_=\"sc-1thf9ly-2 bKddwo\")\n",
    "date_ai\n",
    "release_date = []\n",
    "for date in date_ai:\n",
    "    date = date.text\n",
    "    release_date.append(date)\n",
    "#release_date"
   ]
  },
  {
   "cell_type": "code",
   "execution_count": 84,
   "id": "688d6960",
   "metadata": {},
   "outputs": [],
   "source": [
    "df= pd.DataFrame()\n",
    "df['Paper Title'] = heads_ai\n",
    "df['Authors'] = authors\n",
    "df['Published Date'] = release_date\n",
    "df['Paper URL'] = link_ai\n",
    "#df"
   ]
  },
  {
   "cell_type": "code",
   "execution_count": 85,
   "id": "d6e30e91",
   "metadata": {},
   "outputs": [],
   "source": [
    "df.to_excel(\"downloaded articles from AI in last 90 days.xlsx\")"
   ]
  },
  {
   "cell_type": "code",
   "execution_count": null,
   "id": "958de294",
   "metadata": {},
   "outputs": [],
   "source": []
  },
  {
   "cell_type": "markdown",
   "id": "03a8f763",
   "metadata": {},
   "source": [
    "Write a python program to scrape mentioned details from dineout.co.in :\n",
    "    \n",
    "i) Restaurant name\n",
    "\n",
    "ii) Cuisine\n",
    "\n",
    "iii) Location\n",
    "\n",
    "iv) Ratings\n",
    "\n",
    "v) Image URL"
   ]
  },
  {
   "cell_type": "code",
   "execution_count": 86,
   "id": "ceee8a80",
   "metadata": {},
   "outputs": [],
   "source": [
    "from bs4 import BeautifulSoup\n",
    "import requests\n",
    "import numpy as np\n",
    "import pandas as pd"
   ]
  },
  {
   "cell_type": "code",
   "execution_count": 87,
   "id": "2dd22d27",
   "metadata": {},
   "outputs": [],
   "source": [
    "url = \"https://www.dineout.co.in/pune-restaurants/welcome-back\""
   ]
  },
  {
   "cell_type": "code",
   "execution_count": 88,
   "id": "37ba4c99",
   "metadata": {},
   "outputs": [],
   "source": [
    "data = requests.get(url)\n",
    "#data"
   ]
  },
  {
   "cell_type": "code",
   "execution_count": 89,
   "id": "b95d4107",
   "metadata": {},
   "outputs": [],
   "source": [
    "soup = BeautifulSoup(data.content,\"html.parser\")\n",
    "#print(soup.prettify())"
   ]
  },
  {
   "cell_type": "code",
   "execution_count": 90,
   "id": "99ee31ba",
   "metadata": {},
   "outputs": [
    {
     "data": {
      "text/plain": [
       "21"
      ]
     },
     "execution_count": 90,
     "metadata": {},
     "output_type": "execute_result"
    }
   ],
   "source": [
    "restaurant_name = soup.find_all(\"a\", class_=\"restnt-name ellipsis\")\n",
    "restaurant_name\n",
    "restaurants = []\n",
    "for restaurant in restaurant_name:\n",
    "    restaurant = restaurant.text\n",
    "    restaurants.append(restaurant)\n",
    "#restaurants\n",
    "len(restaurants)"
   ]
  },
  {
   "cell_type": "code",
   "execution_count": 91,
   "id": "a2d0cb6c",
   "metadata": {},
   "outputs": [],
   "source": [
    "cuisine_hotels = soup.find_all(\"span\", class_=\"double-line-ellipsis\")\n",
    "#cuisine_hotels"
   ]
  },
  {
   "cell_type": "code",
   "execution_count": 92,
   "id": "919b2034",
   "metadata": {},
   "outputs": [
    {
     "data": {
      "text/plain": [
       "21"
      ]
     },
     "execution_count": 92,
     "metadata": {},
     "output_type": "execute_result"
    }
   ],
   "source": [
    "cuisines = []\n",
    "for cuisine in cuisine_hotels:\n",
    "    cuisine = cuisine.text.split(\"|\")[1]\n",
    "    cuisines.append(cuisine)\n",
    "#cuisines\n",
    "len(cuisines)"
   ]
  },
  {
   "cell_type": "code",
   "execution_count": 93,
   "id": "f6f480cc",
   "metadata": {},
   "outputs": [
    {
     "data": {
      "text/plain": [
       "21"
      ]
     },
     "execution_count": 93,
     "metadata": {},
     "output_type": "execute_result"
    }
   ],
   "source": [
    "location_hotels = soup.find_all(\"div\", class_=\"restnt-loc ellipsis\")\n",
    "location_hotels\n",
    "locations = []\n",
    "for location in location_hotels:\n",
    "    location = location.text\n",
    "    locations.append(location)\n",
    "#locations\n",
    "len(locations)"
   ]
  },
  {
   "cell_type": "code",
   "execution_count": 94,
   "id": "ba342a00",
   "metadata": {},
   "outputs": [],
   "source": [
    "rating_hotels = soup.find_all(\"img\", class_=\"no-img\")\n",
    "rating_hotels\n",
    "ratings = []\n",
    "for rating in rating_hotels:\n",
    "    rating = rating.parent.next_sibling.text\n",
    "    ratings.append(rating)\n",
    "#ratings\n",
    "# len(ratings)"
   ]
  },
  {
   "cell_type": "code",
   "execution_count": 95,
   "id": "9a9b9566",
   "metadata": {},
   "outputs": [],
   "source": [
    "image_url = soup.find_all(\"img\", class_=\"no-img\")\n",
    "image_url\n",
    "images = []\n",
    "for image in image_url:\n",
    "    image = image[\"data-src\"]\n",
    "    images.append(image)\n",
    "#images\n",
    "# len(images)"
   ]
  },
  {
   "cell_type": "code",
   "execution_count": 96,
   "id": "ee203e54",
   "metadata": {},
   "outputs": [],
   "source": [
    "df = pd.DataFrame()\n",
    "df['Restaurant name'] = restaurants\n",
    "df['Cuisine'] = cuisines\n",
    "df['Location'] = locations\n",
    "df['Ratings'] = ratings\n",
    "df['Image URL'] = images\n",
    "df = df.set_index(np.arange(1,len(df)+1))\n",
    "#df"
   ]
  },
  {
   "cell_type": "code",
   "execution_count": 97,
   "id": "314d3f2a",
   "metadata": {},
   "outputs": [],
   "source": [
    "df.to_excel(\"details from dineout.xlsx\")"
   ]
  },
  {
   "cell_type": "code",
   "execution_count": null,
   "id": "7e1987d1",
   "metadata": {},
   "outputs": [],
   "source": []
  },
  {
   "cell_type": "markdown",
   "id": "9b488c81",
   "metadata": {},
   "source": [
    "Write a python program to scrape the details of top publications from Google Scholar from\n",
    "https://scholar.google.com/citations?view_op=top_venues&hl=en\n",
    "    \n",
    "i) Rank\n",
    "\n",
    "ii) Publication\n",
    "\n",
    "iii) h5-index\n",
    "\n",
    "iv) h5-median"
   ]
  },
  {
   "cell_type": "code",
   "execution_count": 98,
   "id": "0afcc7ec",
   "metadata": {},
   "outputs": [],
   "source": [
    "from bs4 import BeautifulSoup\n",
    "import requests\n",
    "import numpy as np\n",
    "import pandas as pd"
   ]
  },
  {
   "cell_type": "code",
   "execution_count": 99,
   "id": "34ababcb",
   "metadata": {},
   "outputs": [],
   "source": [
    "url_pub = \"https://scholar.google.com/citations?view_op=top_venues&hl=en\""
   ]
  },
  {
   "cell_type": "code",
   "execution_count": 100,
   "id": "dca5893b",
   "metadata": {},
   "outputs": [],
   "source": [
    "page = requests.get(url_pub)\n",
    "#page"
   ]
  },
  {
   "cell_type": "code",
   "execution_count": 101,
   "id": "e00e40ef",
   "metadata": {},
   "outputs": [],
   "source": [
    "soup_pub = BeautifulSoup(page.content,\"html.parser\")\n",
    "#print(soup.prettify())"
   ]
  },
  {
   "cell_type": "code",
   "execution_count": 103,
   "id": "b0939d2c",
   "metadata": {},
   "outputs": [],
   "source": [
    "ranking = soup_pub.find_all(\"td\", class_=\"gsc_mvt_p\")\n",
    "ranking\n",
    "ranks=[]\n",
    "for rank in ranking:\n",
    "    rank = rank.text\n",
    "    ranks.append(rank)\n",
    "#ranks"
   ]
  },
  {
   "cell_type": "code",
   "execution_count": 105,
   "id": "ea16972d",
   "metadata": {},
   "outputs": [],
   "source": [
    "publications = soup_pub.find_all(\"td\", class_=\"gsc_mvt_t\")\n",
    "publications\n",
    "publication = []\n",
    "for pub in publications:\n",
    "    pub = pub.text\n",
    "    publication.append(pub)\n",
    "#publication"
   ]
  },
  {
   "cell_type": "code",
   "execution_count": 107,
   "id": "bf65ca4f",
   "metadata": {},
   "outputs": [],
   "source": [
    "h5_index = soup_pub.find_all(\"a\", class_=\"gs_ibl gsc_mp_anchor\")\n",
    "h5_index\n",
    "h5 = []\n",
    "for h in h5_index:\n",
    "    h = h.text\n",
    "    h5.append(h)\n",
    "#h5"
   ]
  },
  {
   "cell_type": "code",
   "execution_count": 109,
   "id": "3dcedc6b",
   "metadata": {},
   "outputs": [],
   "source": [
    "h5_median = soup_pub.find_all(\"span\", class_=\"gs_ibl gsc_mp_anchor\")\n",
    "h5_median\n",
    "median = []\n",
    "for m in h5_median:\n",
    "    m = m.text\n",
    "    median.append(m)\n",
    "#median"
   ]
  },
  {
   "cell_type": "code",
   "execution_count": 111,
   "id": "9ebcc2de",
   "metadata": {},
   "outputs": [
    {
     "data": {
      "text/html": [
       "<div>\n",
       "<style scoped>\n",
       "    .dataframe tbody tr th:only-of-type {\n",
       "        vertical-align: middle;\n",
       "    }\n",
       "\n",
       "    .dataframe tbody tr th {\n",
       "        vertical-align: top;\n",
       "    }\n",
       "\n",
       "    .dataframe thead th {\n",
       "        text-align: right;\n",
       "    }\n",
       "</style>\n",
       "<table border=\"1\" class=\"dataframe\">\n",
       "  <thead>\n",
       "    <tr style=\"text-align: right;\">\n",
       "      <th></th>\n",
       "      <th>Rank</th>\n",
       "      <th>Publication</th>\n",
       "      <th>h5-index</th>\n",
       "      <th>h5-median</th>\n",
       "    </tr>\n",
       "  </thead>\n",
       "  <tbody>\n",
       "    <tr>\n",
       "      <th>0</th>\n",
       "      <td>1.</td>\n",
       "      <td>Nature</td>\n",
       "      <td>444</td>\n",
       "      <td>667</td>\n",
       "    </tr>\n",
       "    <tr>\n",
       "      <th>1</th>\n",
       "      <td>2.</td>\n",
       "      <td>The New England Journal of Medicine</td>\n",
       "      <td>432</td>\n",
       "      <td>780</td>\n",
       "    </tr>\n",
       "    <tr>\n",
       "      <th>2</th>\n",
       "      <td>3.</td>\n",
       "      <td>Science</td>\n",
       "      <td>401</td>\n",
       "      <td>614</td>\n",
       "    </tr>\n",
       "    <tr>\n",
       "      <th>3</th>\n",
       "      <td>4.</td>\n",
       "      <td>IEEE/CVF Conference on Computer Vision and Pat...</td>\n",
       "      <td>389</td>\n",
       "      <td>627</td>\n",
       "    </tr>\n",
       "    <tr>\n",
       "      <th>4</th>\n",
       "      <td>5.</td>\n",
       "      <td>The Lancet</td>\n",
       "      <td>354</td>\n",
       "      <td>635</td>\n",
       "    </tr>\n",
       "    <tr>\n",
       "      <th>...</th>\n",
       "      <td>...</td>\n",
       "      <td>...</td>\n",
       "      <td>...</td>\n",
       "      <td>...</td>\n",
       "    </tr>\n",
       "    <tr>\n",
       "      <th>95</th>\n",
       "      <td>96.</td>\n",
       "      <td>Journal of Business Research</td>\n",
       "      <td>145</td>\n",
       "      <td>233</td>\n",
       "    </tr>\n",
       "    <tr>\n",
       "      <th>96</th>\n",
       "      <td>97.</td>\n",
       "      <td>Molecular Cancer</td>\n",
       "      <td>145</td>\n",
       "      <td>209</td>\n",
       "    </tr>\n",
       "    <tr>\n",
       "      <th>97</th>\n",
       "      <td>98.</td>\n",
       "      <td>Sensors</td>\n",
       "      <td>145</td>\n",
       "      <td>201</td>\n",
       "    </tr>\n",
       "    <tr>\n",
       "      <th>98</th>\n",
       "      <td>99.</td>\n",
       "      <td>Nature Climate Change</td>\n",
       "      <td>144</td>\n",
       "      <td>228</td>\n",
       "    </tr>\n",
       "    <tr>\n",
       "      <th>99</th>\n",
       "      <td>100.</td>\n",
       "      <td>IEEE Internet of Things Journal</td>\n",
       "      <td>144</td>\n",
       "      <td>212</td>\n",
       "    </tr>\n",
       "  </tbody>\n",
       "</table>\n",
       "<p>100 rows × 4 columns</p>\n",
       "</div>"
      ],
      "text/plain": [
       "    Rank                                        Publication h5-index h5-median\n",
       "0     1.                                             Nature      444       667\n",
       "1     2.                The New England Journal of Medicine      432       780\n",
       "2     3.                                            Science      401       614\n",
       "3     4.  IEEE/CVF Conference on Computer Vision and Pat...      389       627\n",
       "4     5.                                         The Lancet      354       635\n",
       "..   ...                                                ...      ...       ...\n",
       "95   96.                       Journal of Business Research      145       233\n",
       "96   97.                                   Molecular Cancer      145       209\n",
       "97   98.                                            Sensors      145       201\n",
       "98   99.                              Nature Climate Change      144       228\n",
       "99  100.                    IEEE Internet of Things Journal      144       212\n",
       "\n",
       "[100 rows x 4 columns]"
      ]
     },
     "execution_count": 111,
     "metadata": {},
     "output_type": "execute_result"
    }
   ],
   "source": [
    "df = pd.DataFrame()\n",
    "df[\"Rank\"] = ranks\n",
    "df[\"Publication\"] = publication\n",
    "df[\"h5-index\"] = h5\n",
    "df[\"h5-median\"] = median\n",
    "df"
   ]
  },
  {
   "cell_type": "code",
   "execution_count": 112,
   "id": "db397ff3",
   "metadata": {},
   "outputs": [],
   "source": [
    "df.to_excel(\"top publications from Google Scholar.xlsx\")"
   ]
  },
  {
   "cell_type": "code",
   "execution_count": null,
   "id": "59379ebf",
   "metadata": {},
   "outputs": [],
   "source": []
  }
 ],
 "metadata": {
  "kernelspec": {
   "display_name": "Python 3 (ipykernel)",
   "language": "python",
   "name": "python3"
  },
  "language_info": {
   "codemirror_mode": {
    "name": "ipython",
    "version": 3
   },
   "file_extension": ".py",
   "mimetype": "text/x-python",
   "name": "python",
   "nbconvert_exporter": "python",
   "pygments_lexer": "ipython3",
   "version": "3.9.7"
  }
 },
 "nbformat": 4,
 "nbformat_minor": 5
}
